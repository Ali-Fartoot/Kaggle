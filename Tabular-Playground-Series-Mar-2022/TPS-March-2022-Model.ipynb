{
  "nbformat": 4,
  "nbformat_minor": 0,
  "metadata": {
    "colab": {
      "name": "TPS-March-2022-Model.ipynb",
      "provenance": [],
      "collapsed_sections": [],
      "toc_visible": true,
      "mount_file_id": "1DUCXPNo7TZg0jhM3mpwLHb440laP1e1q",
      "authorship_tag": "ABX9TyORbf8PWONB9+2dOr8us+1Z",
      "include_colab_link": true
    },
    "kernelspec": {
      "name": "python3",
      "display_name": "Python 3"
    },
    "language_info": {
      "name": "python"
    }
  },
  "cells": [
    {
      "cell_type": "markdown",
      "metadata": {
        "id": "view-in-github",
        "colab_type": "text"
      },
      "source": [
        "<a href=\"https://colab.research.google.com/github/Ali-Fartout/Kaggle/blob/main/Tabular-Playground-Series-Mar-2022/TPS-March-2022-Model.ipynb\" target=\"_parent\"><img src=\"https://colab.research.google.com/assets/colab-badge.svg\" alt=\"Open In Colab\"/></a>"
      ]
    },
    {
      "cell_type": "markdown",
      "source": [
        "# Requirement"
      ],
      "metadata": {
        "id": "ryD07npN1550"
      }
    },
    {
      "cell_type": "code",
      "source": [
        "! pip install kaggle\n",
        "! mkdir ~/.kaggle\n",
        "!cp /content/drive/MyDrive/kaggle.json ~/.kaggle/kaggle.json\n",
        "! chmod 600 ~/.kaggle/kaggle.json\n",
        "!kaggle competitions download -c tabular-playground-series-mar-2022"
      ],
      "metadata": {
        "colab": {
          "base_uri": "https://localhost:8080/"
        },
        "id": "xJWBwn0B10_-",
        "outputId": "37793984-16b1-4e81-fb83-48be6c1da78f"
      },
      "execution_count": 1,
      "outputs": [
        {
          "output_type": "stream",
          "name": "stdout",
          "text": [
            "Requirement already satisfied: kaggle in /usr/local/lib/python3.7/dist-packages (1.5.12)\n",
            "Requirement already satisfied: requests in /usr/local/lib/python3.7/dist-packages (from kaggle) (2.23.0)\n",
            "Requirement already satisfied: tqdm in /usr/local/lib/python3.7/dist-packages (from kaggle) (4.63.0)\n",
            "Requirement already satisfied: urllib3 in /usr/local/lib/python3.7/dist-packages (from kaggle) (1.24.3)\n",
            "Requirement already satisfied: python-slugify in /usr/local/lib/python3.7/dist-packages (from kaggle) (6.1.1)\n",
            "Requirement already satisfied: six>=1.10 in /usr/local/lib/python3.7/dist-packages (from kaggle) (1.15.0)\n",
            "Requirement already satisfied: certifi in /usr/local/lib/python3.7/dist-packages (from kaggle) (2021.10.8)\n",
            "Requirement already satisfied: python-dateutil in /usr/local/lib/python3.7/dist-packages (from kaggle) (2.8.2)\n",
            "Requirement already satisfied: text-unidecode>=1.3 in /usr/local/lib/python3.7/dist-packages (from python-slugify->kaggle) (1.3)\n",
            "Requirement already satisfied: idna<3,>=2.5 in /usr/local/lib/python3.7/dist-packages (from requests->kaggle) (2.10)\n",
            "Requirement already satisfied: chardet<4,>=3.0.2 in /usr/local/lib/python3.7/dist-packages (from requests->kaggle) (3.0.4)\n",
            "Warning: Looks like you're using an outdated API Version, please consider updating (server 1.5.12 / client 1.5.4)\n",
            "Downloading train.csv.zip to /content\n",
            "  0% 0.00/4.69M [00:00<?, ?B/s]\n",
            "100% 4.69M/4.69M [00:00<00:00, 73.9MB/s]\n",
            "Downloading sample_submission.csv to /content\n",
            "  0% 0.00/25.2k [00:00<?, ?B/s]\n",
            "100% 25.2k/25.2k [00:00<00:00, 33.3MB/s]\n",
            "Downloading test.csv to /content\n",
            "  0% 0.00/77.7k [00:00<?, ?B/s]\n",
            "100% 77.7k/77.7k [00:00<00:00, 102MB/s]\n"
          ]
        }
      ]
    },
    {
      "cell_type": "code",
      "source": [
        "!pip install catboost"
      ],
      "metadata": {
        "colab": {
          "base_uri": "https://localhost:8080/"
        },
        "id": "Q8-3i-So4zc4",
        "outputId": "38098f0d-652f-47a4-9f14-10573b8cba6c"
      },
      "execution_count": 2,
      "outputs": [
        {
          "output_type": "stream",
          "name": "stdout",
          "text": [
            "Collecting catboost\n",
            "  Downloading catboost-1.0.4-cp37-none-manylinux1_x86_64.whl (76.1 MB)\n",
            "\u001b[K     |████████████████████████████████| 76.1 MB 46 kB/s \n",
            "\u001b[?25hRequirement already satisfied: numpy>=1.16.0 in /usr/local/lib/python3.7/dist-packages (from catboost) (1.21.5)\n",
            "Requirement already satisfied: graphviz in /usr/local/lib/python3.7/dist-packages (from catboost) (0.10.1)\n",
            "Requirement already satisfied: matplotlib in /usr/local/lib/python3.7/dist-packages (from catboost) (3.2.2)\n",
            "Requirement already satisfied: pandas>=0.24.0 in /usr/local/lib/python3.7/dist-packages (from catboost) (1.3.5)\n",
            "Requirement already satisfied: scipy in /usr/local/lib/python3.7/dist-packages (from catboost) (1.4.1)\n",
            "Requirement already satisfied: plotly in /usr/local/lib/python3.7/dist-packages (from catboost) (5.5.0)\n",
            "Requirement already satisfied: six in /usr/local/lib/python3.7/dist-packages (from catboost) (1.15.0)\n",
            "Requirement already satisfied: pytz>=2017.3 in /usr/local/lib/python3.7/dist-packages (from pandas>=0.24.0->catboost) (2018.9)\n",
            "Requirement already satisfied: python-dateutil>=2.7.3 in /usr/local/lib/python3.7/dist-packages (from pandas>=0.24.0->catboost) (2.8.2)\n",
            "Requirement already satisfied: cycler>=0.10 in /usr/local/lib/python3.7/dist-packages (from matplotlib->catboost) (0.11.0)\n",
            "Requirement already satisfied: pyparsing!=2.0.4,!=2.1.2,!=2.1.6,>=2.0.1 in /usr/local/lib/python3.7/dist-packages (from matplotlib->catboost) (3.0.7)\n",
            "Requirement already satisfied: kiwisolver>=1.0.1 in /usr/local/lib/python3.7/dist-packages (from matplotlib->catboost) (1.3.2)\n",
            "Requirement already satisfied: tenacity>=6.2.0 in /usr/local/lib/python3.7/dist-packages (from plotly->catboost) (8.0.1)\n",
            "Installing collected packages: catboost\n",
            "Successfully installed catboost-1.0.4\n"
          ]
        }
      ]
    },
    {
      "cell_type": "code",
      "source": [
        "import zipfile\n",
        "zip_ref = zipfile.ZipFile(\"/content/train.csv.zip\", \"r\")\n",
        "zip_ref.extractall()\n",
        "zip_ref.close()"
      ],
      "metadata": {
        "id": "fRfjri0Y2MqL"
      },
      "execution_count": 3,
      "outputs": []
    },
    {
      "cell_type": "code",
      "source": [
        "import pandas as pd\n",
        "import numpy as np\n",
        "from math import sin, cos, pi\n",
        "train = pd.read_csv('/content/train.csv',parse_dates=['time'])\n",
        "test = pd.read_csv('/content/test.csv',parse_dates=['time'])\n",
        "sub = pd.read_csv('/content/sample_submission.csv', index_col=0)"
      ],
      "metadata": {
        "id": "bVn2aWuo2sYQ"
      },
      "execution_count": 4,
      "outputs": []
    },
    {
      "cell_type": "markdown",
      "source": [
        "## Fucntions"
      ],
      "metadata": {
        "id": "2QcIVMqt2Y0M"
      }
    },
    {
      "cell_type": "code",
      "source": [
        "def ExtractDates(data):\n",
        "    data['weekday'] = data.time.dt.weekday\n",
        "    data['hour'] = data.time.dt.hour\n",
        "    data['minute'] = data.time.dt.minute\n",
        "    return data"
      ],
      "metadata": {
        "id": "wHrDBP1v2cJz"
      },
      "execution_count": 5,
      "outputs": []
    },
    {
      "cell_type": "code",
      "source": [
        "def EncodeDirections(data):\n",
        "\n",
        "  numericalValues = {\n",
        "      'NB': 0,\n",
        "      'NE': 1,\n",
        "      'EB': 2,\n",
        "      'SE': 3,\n",
        "      'SB': 4,\n",
        "      'SW': 5,\n",
        "      'WB': 6, \n",
        "      'NW': 7,\n",
        "  }    \n",
        "\n",
        "  sinValues= {\n",
        "      'NB': 0.0,\n",
        "      'NE': sin(1 * pi/4),\n",
        "      'EB': 1.0,\n",
        "      'SE': sin(3 * pi/4),\n",
        "      'SB': 0.0,\n",
        "      'SW': sin(5 * pi/4),    \n",
        "      'WB': -1.0,    \n",
        "      'NW': sin(7 * pi/4),  \n",
        "  }\n",
        "  \n",
        "  cosValues = {\n",
        "      'NB': 1.0,\n",
        "      'NE': cos(1 * pi/4),\n",
        "      'EB': 0.0,\n",
        "      'SE': cos(3 * pi/4),\n",
        "      'SB': -1.0,\n",
        "      'SW': cos(5 * pi/4),    \n",
        "      'WB': 0.0,    \n",
        "      'NW': cos(7 * pi/4),  \n",
        "  }\n",
        "\n",
        "\n",
        "  data['sin'] = data['direction'].map(sinValues)\n",
        "  data['cos'] = data['direction'].map(cosValues)\n",
        "  data['direction'] = data['direction'].map(numericalValues)\n",
        "\n",
        "  return data"
      ],
      "metadata": {
        "id": "rudBtaoJ2uov"
      },
      "execution_count": 6,
      "outputs": []
    },
    {
      "cell_type": "markdown",
      "source": [
        "# Frature Engineering"
      ],
      "metadata": {
        "id": "AOInRuJHCd2I"
      }
    },
    {
      "cell_type": "code",
      "source": [
        "y = pd.DataFrame(train['congestion'],columns=['congestion'])\n",
        "x = train.drop(columns=['congestion'])"
      ],
      "metadata": {
        "id": "uzQpXek65uWe"
      },
      "execution_count": 7,
      "outputs": []
    },
    {
      "cell_type": "code",
      "source": [
        "for df in [train,test]:\n",
        "  df = ExtractDates(df)\n",
        "  df = EncodeDirections(df)"
      ],
      "metadata": {
        "id": "yLnUuPRW3jCi"
      },
      "execution_count": 8,
      "outputs": []
    },
    {
      "cell_type": "code",
      "source": [
        "from sklearn.model_selection import train_test_split\n",
        "xTrain, xTest, yTrain, yTest = train_test_split(x, y, test_size=0.33, random_state=42)"
      ],
      "metadata": {
        "id": "r2hLmQqV5NPx"
      },
      "execution_count": 9,
      "outputs": []
    },
    {
      "cell_type": "markdown",
      "source": [
        "# Model"
      ],
      "metadata": {
        "id": "52lNOKHfCnZB"
      }
    },
    {
      "cell_type": "markdown",
      "source": [
        "## CatBoost"
      ],
      "metadata": {
        "id": "-TwNZwJm3hLu"
      }
    },
    {
      "cell_type": "code",
      "source": [
        "import catboost as cb\n",
        "from sklearn.metrics import mean_squared_error\n",
        "from sklearn.metrics import r2_score\n",
        "\n",
        "catBoostModel = cb.CatBoostRegressor(loss_function= 'RMSE',\n",
        "                             iterations = 200,\n",
        "                             learning_rate=0.1, \n",
        "                             depth = 6)\n",
        "\n",
        "catBoostModel.fit(xTrain,yTrain)\n",
        "pred = catBoostModel.predict(xTest) \n",
        "rmse = (np.sqrt(mean_squared_error(yTest, pred)))\n",
        "print('RMSE: {:.2f}'.format(rmse))"
      ],
      "metadata": {
        "colab": {
          "base_uri": "https://localhost:8080/"
        },
        "id": "vdWzESD24DH8",
        "outputId": "ebe550bd-4009-485f-c797-95545477fcd3"
      },
      "execution_count": null,
      "outputs": [
        {
          "output_type": "stream",
          "name": "stdout",
          "text": [
            "195:\tlearn: 9.6690268\ttotal: 15.5s\tremaining: 315ms\n",
            "196:\tlearn: 9.6668216\ttotal: 15.5s\tremaining: 237ms\n",
            "197:\tlearn: 9.6618500\ttotal: 15.6s\tremaining: 158ms\n",
            "198:\tlearn: 9.6595860\ttotal: 15.7s\tremaining: 78.9ms\n",
            "199:\tlearn: 9.6580513\ttotal: 15.8s\tremaining: 0us\n",
            "RMSE: 9.67\n"
          ]
        }
      ]
    },
    {
      "cell_type": "code",
      "source": [
        "rmses = []\n",
        "for learninnRate in np.arange (0.01,1,0.01):\n",
        "  catBoostModel = cb.CatBoostRegressor(loss_function= 'RMSE',\n",
        "                              iterations = 50,\n",
        "                              learning_rate=learninnRate, \n",
        "                              depth = 6)\n",
        "\n",
        "  catBoostModel.fit(xTrain,yTrain)\n",
        "  pred = catBoostModel.predict(xTest) \n",
        "  rmse = (np.sqrt(mean_squared_error(yTest, pred)))\n",
        "  rmses.append(rmse)\n"
      ],
      "metadata": {
        "id": "_PMkJmHI7LHG"
      },
      "execution_count": null,
      "outputs": []
    },
    {
      "cell_type": "code",
      "source": [
        "import matplotlib.pyplot  as plt\n",
        "plt.plot(np.arange (0.01,1,0.01),rmses)"
      ],
      "metadata": {
        "colab": {
          "base_uri": "https://localhost:8080/",
          "height": 282
        },
        "id": "GOcNerI58df0",
        "outputId": "e68710fa-d30b-4ceb-8de4-4daa0138ab14"
      },
      "execution_count": null,
      "outputs": [
        {
          "output_type": "execute_result",
          "data": {
            "text/plain": [
              "[<matplotlib.lines.Line2D at 0x7f90a2fa9210>]"
            ]
          },
          "metadata": {},
          "execution_count": 32
        },
        {
          "output_type": "display_data",
          "data": {
            "image/png": "[encoded data removed]",
            "text/plain": [
              "<Figure size 432x288 with 1 Axes>"
            ]
          },
          "metadata": {
            "needs_background": "light"
          }
        }
      ]
    },
    {
      "cell_type": "code",
      "source": [
        "catBoostModel = cb.CatBoostRegressor(loss_function= 'RMSE',\n",
        "                             iterations = 500,\n",
        "                             learning_rate=1, \n",
        "                             depth = 6)\n",
        "\n",
        "catBoostModel.fit(x,y)\n",
        "pred = catBoostModel.predict(test) \n"
      ],
      "metadata": {
        "colab": {
          "base_uri": "https://localhost:8080/"
        },
        "id": "pKCADnix9YmZ",
        "outputId": "0738e090-3db1-4d26-b634-8f392f433120"
      },
      "execution_count": null,
      "outputs": [
        {
          "output_type": "stream",
          "name": "stderr",
          "text": [
            "Custom logger is already specified. Specify more than one logger at same time is not thread safe."
          ]
        },
        {
          "output_type": "stream",
          "name": "stdout",
          "text": [
            "0:\tlearn: 14.3897122\ttotal: 114ms\tremaining: 56.7s\n",
            "1:\tlearn: 12.1408972\ttotal: 237ms\tremaining: 59.1s\n",
            "2:\tlearn: 11.6779948\ttotal: 349ms\tremaining: 57.8s\n",
            "3:\tlearn: 11.4241499\ttotal: 480ms\tremaining: 59.5s\n",
            "4:\tlearn: 10.9671377\ttotal: 601ms\tremaining: 59.5s\n",
            "5:\tlearn: 10.5611549\ttotal: 717ms\tremaining: 59s\n",
            "6:\tlearn: 10.4025855\ttotal: 827ms\tremaining: 58.2s\n",
            "7:\tlearn: 10.2661072\ttotal: 942ms\tremaining: 57.9s\n",
            "8:\tlearn: 10.2014738\ttotal: 1.07s\tremaining: 58.6s\n",
            "9:\tlearn: 10.1701736\ttotal: 1.17s\tremaining: 57.5s\n",
            "10:\tlearn: 10.0986724\ttotal: 1.29s\tremaining: 57.4s\n",
            "11:\tlearn: 10.0035398\ttotal: 1.41s\tremaining: 57.2s\n",
            "12:\tlearn: 9.9838259\ttotal: 1.53s\tremaining: 57.3s\n",
            "13:\tlearn: 9.9430667\ttotal: 1.64s\tremaining: 56.9s\n",
            "14:\tlearn: 9.9296036\ttotal: 1.75s\tremaining: 56.6s\n",
            "15:\tlearn: 9.8832213\ttotal: 1.88s\tremaining: 56.9s\n",
            "16:\tlearn: 9.8748655\ttotal: 1.97s\tremaining: 56.1s\n",
            "17:\tlearn: 9.8579911\ttotal: 2.09s\tremaining: 55.9s\n",
            "18:\tlearn: 9.8330582\ttotal: 2.2s\tremaining: 55.7s\n",
            "19:\tlearn: 9.8141500\ttotal: 2.31s\tremaining: 55.3s\n",
            "20:\tlearn: 9.8071521\ttotal: 2.42s\tremaining: 55.2s\n",
            "21:\tlearn: 9.7903782\ttotal: 2.55s\tremaining: 55.4s\n",
            "22:\tlearn: 9.7822019\ttotal: 2.68s\tremaining: 55.6s\n",
            "23:\tlearn: 9.7427550\ttotal: 2.79s\tremaining: 55.4s\n",
            "24:\tlearn: 9.7240475\ttotal: 2.9s\tremaining: 55.2s\n",
            "25:\tlearn: 9.7084120\ttotal: 3.02s\tremaining: 55s\n",
            "26:\tlearn: 9.6951253\ttotal: 3.13s\tremaining: 54.9s\n",
            "27:\tlearn: 9.6917248\ttotal: 3.23s\tremaining: 54.5s\n",
            "28:\tlearn: 9.6809782\ttotal: 3.33s\tremaining: 54.1s\n",
            "29:\tlearn: 9.6676774\ttotal: 3.45s\tremaining: 54s\n",
            "30:\tlearn: 9.6410218\ttotal: 3.57s\tremaining: 54s\n",
            "31:\tlearn: 9.6154728\ttotal: 3.68s\tremaining: 53.9s\n",
            "32:\tlearn: 9.5989422\ttotal: 3.8s\tremaining: 53.7s\n",
            "33:\tlearn: 9.5848466\ttotal: 3.92s\tremaining: 53.7s\n",
            "34:\tlearn: 9.5786010\ttotal: 4.01s\tremaining: 53.3s\n",
            "35:\tlearn: 9.5702720\ttotal: 4.13s\tremaining: 53.2s\n",
            "36:\tlearn: 9.5638121\ttotal: 4.23s\tremaining: 53s\n",
            "37:\tlearn: 9.5515102\ttotal: 4.35s\tremaining: 52.9s\n",
            "38:\tlearn: 9.5484135\ttotal: 4.45s\tremaining: 52.6s\n",
            "39:\tlearn: 9.5419890\ttotal: 4.57s\tremaining: 52.5s\n",
            "40:\tlearn: 9.5382368\ttotal: 4.66s\tremaining: 52.2s\n",
            "41:\tlearn: 9.5246038\ttotal: 4.78s\tremaining: 52.2s\n",
            "42:\tlearn: 9.5213173\ttotal: 4.88s\tremaining: 51.9s\n",
            "43:\tlearn: 9.5131815\ttotal: 4.99s\tremaining: 51.8s\n",
            "44:\tlearn: 9.5016109\ttotal: 5.11s\tremaining: 51.6s\n",
            "45:\tlearn: 9.4988241\ttotal: 5.22s\tremaining: 51.5s\n",
            "46:\tlearn: 9.4968855\ttotal: 5.32s\tremaining: 51.2s\n",
            "47:\tlearn: 9.4879986\ttotal: 5.43s\tremaining: 51.2s\n",
            "48:\tlearn: 9.4780157\ttotal: 5.55s\tremaining: 51.1s\n",
            "49:\tlearn: 9.4726227\ttotal: 5.67s\tremaining: 51s\n",
            "50:\tlearn: 9.4703152\ttotal: 5.78s\tremaining: 50.9s\n",
            "51:\tlearn: 9.4636751\ttotal: 5.89s\tremaining: 50.8s\n",
            "52:\tlearn: 9.4613641\ttotal: 6s\tremaining: 50.6s\n",
            "53:\tlearn: 9.4579214\ttotal: 6.12s\tremaining: 50.5s\n",
            "54:\tlearn: 9.4556603\ttotal: 6.23s\tremaining: 50.4s\n",
            "55:\tlearn: 9.4497899\ttotal: 6.33s\tremaining: 50.2s\n",
            "56:\tlearn: 9.4468938\ttotal: 6.45s\tremaining: 50.1s\n",
            "57:\tlearn: 9.4444437\ttotal: 6.56s\tremaining: 50s\n",
            "58:\tlearn: 9.4361503\ttotal: 6.67s\tremaining: 49.8s\n",
            "59:\tlearn: 9.4314332\ttotal: 6.77s\tremaining: 49.7s\n",
            "60:\tlearn: 9.4287423\ttotal: 6.88s\tremaining: 49.5s\n",
            "61:\tlearn: 9.4150673\ttotal: 7s\tremaining: 49.4s\n",
            "62:\tlearn: 9.4134731\ttotal: 7.09s\tremaining: 49.2s\n",
            "63:\tlearn: 9.4117827\ttotal: 7.2s\tremaining: 49.1s\n",
            "64:\tlearn: 9.4078377\ttotal: 7.3s\tremaining: 48.8s\n",
            "65:\tlearn: 9.4021201\ttotal: 7.42s\tremaining: 48.8s\n",
            "66:\tlearn: 9.3993757\ttotal: 7.53s\tremaining: 48.6s\n",
            "67:\tlearn: 9.3973958\ttotal: 7.64s\tremaining: 48.6s\n",
            "68:\tlearn: 9.3944531\ttotal: 7.76s\tremaining: 48.5s\n",
            "69:\tlearn: 9.3925571\ttotal: 7.88s\tremaining: 48.4s\n",
            "70:\tlearn: 9.3888974\ttotal: 7.99s\tremaining: 48.3s\n",
            "71:\tlearn: 9.3861509\ttotal: 8.1s\tremaining: 48.2s\n",
            "72:\tlearn: 9.3814786\ttotal: 8.21s\tremaining: 48s\n",
            "73:\tlearn: 9.3771212\ttotal: 8.31s\tremaining: 47.9s\n",
            "74:\tlearn: 9.3748149\ttotal: 8.42s\tremaining: 47.7s\n",
            "75:\tlearn: 9.3714135\ttotal: 8.53s\tremaining: 47.6s\n",
            "76:\tlearn: 9.3690227\ttotal: 8.66s\tremaining: 47.6s\n",
            "77:\tlearn: 9.3668385\ttotal: 8.78s\tremaining: 47.5s\n",
            "78:\tlearn: 9.3624235\ttotal: 8.9s\tremaining: 47.4s\n",
            "79:\tlearn: 9.3609344\ttotal: 9.02s\tremaining: 47.3s\n",
            "80:\tlearn: 9.3574570\ttotal: 9.13s\tremaining: 47.2s\n",
            "81:\tlearn: 9.3540616\ttotal: 9.25s\tremaining: 47.2s\n",
            "82:\tlearn: 9.3502191\ttotal: 9.35s\tremaining: 47s\n",
            "83:\tlearn: 9.3466678\ttotal: 9.45s\tremaining: 46.8s\n",
            "84:\tlearn: 9.3387936\ttotal: 9.57s\tremaining: 46.7s\n",
            "85:\tlearn: 9.3345321\ttotal: 9.7s\tremaining: 46.7s\n",
            "86:\tlearn: 9.3333048\ttotal: 9.8s\tremaining: 46.5s\n",
            "87:\tlearn: 9.3276277\ttotal: 9.91s\tremaining: 46.4s\n",
            "88:\tlearn: 9.3259249\ttotal: 10s\tremaining: 46.4s\n",
            "89:\tlearn: 9.3243067\ttotal: 10.1s\tremaining: 46.2s\n",
            "90:\tlearn: 9.3224095\ttotal: 10.3s\tremaining: 46.1s\n",
            "91:\tlearn: 9.3179601\ttotal: 10.4s\tremaining: 46s\n",
            "92:\tlearn: 9.3135261\ttotal: 10.5s\tremaining: 45.8s\n",
            "93:\tlearn: 9.3089780\ttotal: 10.6s\tremaining: 45.7s\n",
            "94:\tlearn: 9.3063981\ttotal: 10.7s\tremaining: 45.6s\n",
            "95:\tlearn: 9.3048124\ttotal: 10.8s\tremaining: 45.4s\n",
            "96:\tlearn: 9.3038660\ttotal: 10.9s\tremaining: 45.2s\n",
            "97:\tlearn: 9.3014840\ttotal: 11s\tremaining: 45.1s\n",
            "98:\tlearn: 9.2999132\ttotal: 11.1s\tremaining: 45s\n",
            "99:\tlearn: 9.2965345\ttotal: 11.2s\tremaining: 44.9s\n",
            "100:\tlearn: 9.2954155\ttotal: 11.3s\tremaining: 44.7s\n",
            "101:\tlearn: 9.2937356\ttotal: 11.4s\tremaining: 44.5s\n",
            "102:\tlearn: 9.2913646\ttotal: 11.5s\tremaining: 44.4s\n",
            "103:\tlearn: 9.2864265\ttotal: 11.6s\tremaining: 44.3s\n",
            "104:\tlearn: 9.2845670\ttotal: 11.8s\tremaining: 44.2s\n",
            "105:\tlearn: 9.2817548\ttotal: 11.9s\tremaining: 44.1s\n",
            "106:\tlearn: 9.2778922\ttotal: 12s\tremaining: 43.9s\n",
            "107:\tlearn: 9.2759327\ttotal: 12.1s\tremaining: 43.8s\n",
            "108:\tlearn: 9.2729440\ttotal: 12.2s\tremaining: 43.7s\n",
            "109:\tlearn: 9.2698180\ttotal: 12.3s\tremaining: 43.6s\n",
            "110:\tlearn: 9.2685162\ttotal: 12.4s\tremaining: 43.5s\n",
            "111:\tlearn: 9.2668782\ttotal: 12.5s\tremaining: 43.3s\n",
            "112:\tlearn: 9.2655923\ttotal: 12.6s\tremaining: 43.2s\n",
            "113:\tlearn: 9.2637622\ttotal: 12.7s\tremaining: 43.1s\n",
            "114:\tlearn: 9.2621156\ttotal: 12.9s\tremaining: 43s\n",
            "115:\tlearn: 9.2575193\ttotal: 13s\tremaining: 43s\n",
            "116:\tlearn: 9.2537283\ttotal: 13.1s\tremaining: 42.9s\n",
            "117:\tlearn: 9.2516654\ttotal: 13.2s\tremaining: 42.8s\n",
            "118:\tlearn: 9.2506346\ttotal: 13.3s\tremaining: 42.6s\n",
            "119:\tlearn: 9.2488808\ttotal: 13.4s\tremaining: 42.5s\n",
            "120:\tlearn: 9.2465903\ttotal: 13.5s\tremaining: 42.4s\n",
            "121:\tlearn: 9.2449392\ttotal: 13.6s\tremaining: 42.2s\n",
            "122:\tlearn: 9.2410009\ttotal: 13.8s\tremaining: 42.2s\n",
            "123:\tlearn: 9.2389576\ttotal: 13.9s\tremaining: 42.1s\n",
            "124:\tlearn: 9.2375047\ttotal: 14s\tremaining: 41.9s\n",
            "125:\tlearn: 9.2348521\ttotal: 14.1s\tremaining: 41.8s\n",
            "126:\tlearn: 9.2335670\ttotal: 14.2s\tremaining: 41.7s\n",
            "127:\tlearn: 9.2296268\ttotal: 14.3s\tremaining: 41.6s\n",
            "128:\tlearn: 9.2278844\ttotal: 14.4s\tremaining: 41.4s\n",
            "129:\tlearn: 9.2266501\ttotal: 14.5s\tremaining: 41.3s\n",
            "130:\tlearn: 9.2244315\ttotal: 14.6s\tremaining: 41.1s\n",
            "131:\tlearn: 9.2227752\ttotal: 14.7s\tremaining: 41s\n",
            "132:\tlearn: 9.2207493\ttotal: 14.8s\tremaining: 40.9s\n",
            "133:\tlearn: 9.2187726\ttotal: 14.9s\tremaining: 40.8s\n",
            "134:\tlearn: 9.2093344\ttotal: 15.1s\tremaining: 40.7s\n",
            "135:\tlearn: 9.2078684\ttotal: 15.2s\tremaining: 40.6s\n",
            "136:\tlearn: 9.2056179\ttotal: 15.3s\tremaining: 40.6s\n",
            "137:\tlearn: 9.2041338\ttotal: 15.4s\tremaining: 40.4s\n",
            "138:\tlearn: 9.2025952\ttotal: 15.5s\tremaining: 40.3s\n",
            "139:\tlearn: 9.1990255\ttotal: 15.6s\tremaining: 40.2s\n",
            "140:\tlearn: 9.1975642\ttotal: 15.7s\tremaining: 40.1s\n",
            "141:\tlearn: 9.1949264\ttotal: 15.9s\tremaining: 40s\n",
            "142:\tlearn: 9.1933409\ttotal: 16s\tremaining: 39.9s\n",
            "143:\tlearn: 9.1925094\ttotal: 16.1s\tremaining: 39.7s\n",
            "144:\tlearn: 9.1909241\ttotal: 16.2s\tremaining: 39.7s\n",
            "145:\tlearn: 9.1862389\ttotal: 16.3s\tremaining: 39.5s\n",
            "146:\tlearn: 9.1832731\ttotal: 16.4s\tremaining: 39.4s\n",
            "147:\tlearn: 9.1794109\ttotal: 16.5s\tremaining: 39.3s\n",
            "148:\tlearn: 9.1774757\ttotal: 16.6s\tremaining: 39.2s\n",
            "149:\tlearn: 9.1759653\ttotal: 16.8s\tremaining: 39.1s\n",
            "150:\tlearn: 9.1746041\ttotal: 16.9s\tremaining: 39s\n",
            "151:\tlearn: 9.1731673\ttotal: 17s\tremaining: 38.9s\n",
            "152:\tlearn: 9.1696001\ttotal: 17.1s\tremaining: 38.8s\n",
            "153:\tlearn: 9.1675073\ttotal: 17.2s\tremaining: 38.7s\n",
            "154:\tlearn: 9.1649452\ttotal: 17.3s\tremaining: 38.6s\n",
            "155:\tlearn: 9.1640853\ttotal: 17.4s\tremaining: 38.4s\n",
            "156:\tlearn: 9.1622779\ttotal: 17.5s\tremaining: 38.3s\n",
            "157:\tlearn: 9.1609172\ttotal: 17.6s\tremaining: 38.2s\n",
            "158:\tlearn: 9.1592556\ttotal: 17.8s\tremaining: 38.1s\n",
            "159:\tlearn: 9.1582664\ttotal: 17.9s\tremaining: 38s\n",
            "160:\tlearn: 9.1572082\ttotal: 18s\tremaining: 37.9s\n",
            "161:\tlearn: 9.1552771\ttotal: 18.1s\tremaining: 37.8s\n",
            "162:\tlearn: 9.1512997\ttotal: 18.2s\tremaining: 37.6s\n",
            "163:\tlearn: 9.1472571\ttotal: 18.3s\tremaining: 37.5s\n",
            "164:\tlearn: 9.1458561\ttotal: 18.4s\tremaining: 37.4s\n",
            "165:\tlearn: 9.1448684\ttotal: 18.5s\tremaining: 37.3s\n",
            "166:\tlearn: 9.1419682\ttotal: 18.6s\tremaining: 37.2s\n",
            "167:\tlearn: 9.1408166\ttotal: 18.8s\tremaining: 37.1s\n",
            "168:\tlearn: 9.1376958\ttotal: 18.9s\tremaining: 37s\n",
            "169:\tlearn: 9.1352361\ttotal: 19s\tremaining: 36.9s\n",
            "170:\tlearn: 9.1346718\ttotal: 19.1s\tremaining: 36.8s\n",
            "171:\tlearn: 9.1337262\ttotal: 19.2s\tremaining: 36.6s\n",
            "172:\tlearn: 9.1320079\ttotal: 19.3s\tremaining: 36.5s\n",
            "173:\tlearn: 9.1295479\ttotal: 19.4s\tremaining: 36.4s\n",
            "174:\tlearn: 9.1284143\ttotal: 19.5s\tremaining: 36.3s\n",
            "175:\tlearn: 9.1274879\ttotal: 19.7s\tremaining: 36.2s\n",
            "176:\tlearn: 9.1256602\ttotal: 19.8s\tremaining: 36.1s\n",
            "177:\tlearn: 9.1247937\ttotal: 19.9s\tremaining: 36s\n",
            "178:\tlearn: 9.1233197\ttotal: 20s\tremaining: 35.8s\n",
            "179:\tlearn: 9.1222722\ttotal: 20.1s\tremaining: 35.7s\n",
            "180:\tlearn: 9.1207550\ttotal: 20.2s\tremaining: 35.6s\n",
            "181:\tlearn: 9.1192345\ttotal: 20.3s\tremaining: 35.5s\n",
            "182:\tlearn: 9.1183421\ttotal: 20.4s\tremaining: 35.4s\n",
            "183:\tlearn: 9.1165966\ttotal: 20.5s\tremaining: 35.3s\n",
            "184:\tlearn: 9.1153676\ttotal: 20.7s\tremaining: 35.2s\n",
            "185:\tlearn: 9.1143338\ttotal: 20.8s\tremaining: 35.1s\n",
            "186:\tlearn: 9.1136904\ttotal: 20.9s\tremaining: 34.9s\n",
            "187:\tlearn: 9.1106209\ttotal: 21s\tremaining: 34.8s\n",
            "188:\tlearn: 9.1091797\ttotal: 21.1s\tremaining: 34.7s\n",
            "189:\tlearn: 9.1067754\ttotal: 21.2s\tremaining: 34.6s\n",
            "190:\tlearn: 9.1062287\ttotal: 21.3s\tremaining: 34.5s\n",
            "191:\tlearn: 9.1037330\ttotal: 21.4s\tremaining: 34.4s\n",
            "192:\tlearn: 9.1025341\ttotal: 21.5s\tremaining: 34.3s\n",
            "193:\tlearn: 9.1015670\ttotal: 21.7s\tremaining: 34.2s\n",
            "194:\tlearn: 9.1004027\ttotal: 21.8s\tremaining: 34s\n",
            "195:\tlearn: 9.0992546\ttotal: 21.9s\tremaining: 34s\n",
            "196:\tlearn: 9.0981748\ttotal: 22s\tremaining: 33.8s\n",
            "197:\tlearn: 9.0972306\ttotal: 22.1s\tremaining: 33.7s\n",
            "198:\tlearn: 9.0965571\ttotal: 22.2s\tremaining: 33.6s\n",
            "199:\tlearn: 9.0947743\ttotal: 22.3s\tremaining: 33.5s\n",
            "200:\tlearn: 9.0939885\ttotal: 22.4s\tremaining: 33.4s\n",
            "201:\tlearn: 9.0935618\ttotal: 22.5s\tremaining: 33.2s\n",
            "202:\tlearn: 9.0921901\ttotal: 22.6s\tremaining: 33.1s\n",
            "203:\tlearn: 9.0910809\ttotal: 22.8s\tremaining: 33s\n",
            "204:\tlearn: 9.0882206\ttotal: 22.9s\tremaining: 32.9s\n",
            "205:\tlearn: 9.0873769\ttotal: 23s\tremaining: 32.8s\n",
            "206:\tlearn: 9.0868910\ttotal: 23.1s\tremaining: 32.7s\n",
            "207:\tlearn: 9.0860325\ttotal: 23.2s\tremaining: 32.6s\n",
            "208:\tlearn: 9.0839727\ttotal: 23.3s\tremaining: 32.5s\n",
            "209:\tlearn: 9.0831525\ttotal: 23.4s\tremaining: 32.4s\n",
            "210:\tlearn: 9.0821625\ttotal: 23.5s\tremaining: 32.3s\n",
            "211:\tlearn: 9.0799123\ttotal: 23.7s\tremaining: 32.1s\n",
            "212:\tlearn: 9.0790987\ttotal: 23.8s\tremaining: 32s\n",
            "213:\tlearn: 9.0766268\ttotal: 23.9s\tremaining: 31.9s\n",
            "214:\tlearn: 9.0758888\ttotal: 24s\tremaining: 31.8s\n",
            "215:\tlearn: 9.0746423\ttotal: 24.1s\tremaining: 31.7s\n",
            "216:\tlearn: 9.0737740\ttotal: 24.3s\tremaining: 31.6s\n",
            "217:\tlearn: 9.0728836\ttotal: 24.4s\tremaining: 31.5s\n",
            "218:\tlearn: 9.0703638\ttotal: 24.5s\tremaining: 31.4s\n",
            "219:\tlearn: 9.0690358\ttotal: 24.6s\tremaining: 31.3s\n",
            "220:\tlearn: 9.0680355\ttotal: 24.7s\tremaining: 31.2s\n",
            "221:\tlearn: 9.0665034\ttotal: 24.8s\tremaining: 31.1s\n",
            "222:\tlearn: 9.0646790\ttotal: 24.9s\tremaining: 31s\n",
            "223:\tlearn: 9.0630103\ttotal: 25s\tremaining: 30.8s\n",
            "224:\tlearn: 9.0615918\ttotal: 25.1s\tremaining: 30.7s\n",
            "225:\tlearn: 9.0612692\ttotal: 25.2s\tremaining: 30.6s\n",
            "226:\tlearn: 9.0599343\ttotal: 25.3s\tremaining: 30.5s\n",
            "227:\tlearn: 9.0595561\ttotal: 25.4s\tremaining: 30.3s\n",
            "228:\tlearn: 9.0574775\ttotal: 25.6s\tremaining: 30.2s\n",
            "229:\tlearn: 9.0538834\ttotal: 25.7s\tremaining: 30.1s\n",
            "230:\tlearn: 9.0509811\ttotal: 25.8s\tremaining: 30s\n",
            "231:\tlearn: 9.0495202\ttotal: 25.9s\tremaining: 29.9s\n",
            "232:\tlearn: 9.0487095\ttotal: 26s\tremaining: 29.8s\n",
            "233:\tlearn: 9.0482826\ttotal: 26.1s\tremaining: 29.7s\n",
            "234:\tlearn: 9.0474983\ttotal: 26.2s\tremaining: 29.6s\n",
            "235:\tlearn: 9.0470917\ttotal: 26.3s\tremaining: 29.5s\n",
            "236:\tlearn: 9.0460062\ttotal: 26.4s\tremaining: 29.3s\n",
            "237:\tlearn: 9.0449986\ttotal: 26.6s\tremaining: 29.2s\n",
            "238:\tlearn: 9.0440780\ttotal: 26.7s\tremaining: 29.1s\n",
            "239:\tlearn: 9.0423667\ttotal: 26.8s\tremaining: 29s\n",
            "240:\tlearn: 9.0415864\ttotal: 26.9s\tremaining: 28.9s\n",
            "241:\tlearn: 9.0407402\ttotal: 27s\tremaining: 28.8s\n",
            "242:\tlearn: 9.0399217\ttotal: 27.1s\tremaining: 28.7s\n",
            "243:\tlearn: 9.0393070\ttotal: 27.2s\tremaining: 28.6s\n",
            "244:\tlearn: 9.0382426\ttotal: 27.3s\tremaining: 28.4s\n",
            "245:\tlearn: 9.0368947\ttotal: 27.4s\tremaining: 28.3s\n",
            "246:\tlearn: 9.0362316\ttotal: 27.5s\tremaining: 28.2s\n",
            "247:\tlearn: 9.0344985\ttotal: 27.7s\tremaining: 28.1s\n",
            "248:\tlearn: 9.0339394\ttotal: 27.8s\tremaining: 28s\n",
            "249:\tlearn: 9.0330887\ttotal: 27.9s\tremaining: 27.9s\n",
            "250:\tlearn: 9.0319690\ttotal: 28s\tremaining: 27.8s\n",
            "251:\tlearn: 9.0313026\ttotal: 28.1s\tremaining: 27.7s\n",
            "252:\tlearn: 9.0271021\ttotal: 28.2s\tremaining: 27.6s\n",
            "253:\tlearn: 9.0256111\ttotal: 28.4s\tremaining: 27.5s\n",
            "254:\tlearn: 9.0237827\ttotal: 28.5s\tremaining: 27.3s\n",
            "255:\tlearn: 9.0226259\ttotal: 28.6s\tremaining: 27.2s\n",
            "256:\tlearn: 9.0216669\ttotal: 28.7s\tremaining: 27.1s\n",
            "257:\tlearn: 9.0202198\ttotal: 28.8s\tremaining: 27s\n",
            "258:\tlearn: 9.0185521\ttotal: 28.9s\tremaining: 26.9s\n",
            "259:\tlearn: 9.0171477\ttotal: 29s\tremaining: 26.8s\n",
            "260:\tlearn: 9.0157705\ttotal: 29.1s\tremaining: 26.7s\n",
            "261:\tlearn: 9.0151907\ttotal: 29.2s\tremaining: 26.5s\n",
            "262:\tlearn: 9.0145240\ttotal: 29.3s\tremaining: 26.4s\n",
            "263:\tlearn: 9.0138147\ttotal: 29.4s\tremaining: 26.3s\n",
            "264:\tlearn: 9.0115286\ttotal: 29.5s\tremaining: 26.2s\n",
            "265:\tlearn: 9.0105998\ttotal: 29.6s\tremaining: 26.1s\n",
            "266:\tlearn: 9.0093367\ttotal: 29.7s\tremaining: 25.9s\n",
            "267:\tlearn: 9.0085977\ttotal: 29.8s\tremaining: 25.8s\n",
            "268:\tlearn: 9.0075898\ttotal: 29.9s\tremaining: 25.7s\n",
            "269:\tlearn: 9.0060559\ttotal: 30.1s\tremaining: 25.6s\n",
            "270:\tlearn: 9.0056920\ttotal: 30.2s\tremaining: 25.5s\n",
            "271:\tlearn: 9.0040771\ttotal: 30.3s\tremaining: 25.4s\n",
            "272:\tlearn: 9.0036656\ttotal: 30.4s\tremaining: 25.3s\n",
            "273:\tlearn: 9.0030818\ttotal: 30.5s\tremaining: 25.1s\n",
            "274:\tlearn: 9.0022798\ttotal: 30.6s\tremaining: 25s\n",
            "275:\tlearn: 9.0011791\ttotal: 30.7s\tremaining: 24.9s\n",
            "276:\tlearn: 9.0006956\ttotal: 30.8s\tremaining: 24.8s\n",
            "277:\tlearn: 8.9994916\ttotal: 30.9s\tremaining: 24.7s\n",
            "278:\tlearn: 8.9986810\ttotal: 31s\tremaining: 24.6s\n",
            "279:\tlearn: 8.9973275\ttotal: 31.1s\tremaining: 24.5s\n",
            "280:\tlearn: 8.9959818\ttotal: 31.3s\tremaining: 24.4s\n",
            "281:\tlearn: 8.9951615\ttotal: 31.4s\tremaining: 24.2s\n",
            "282:\tlearn: 8.9946736\ttotal: 31.5s\tremaining: 24.1s\n",
            "283:\tlearn: 8.9939647\ttotal: 31.6s\tremaining: 24s\n",
            "284:\tlearn: 8.9934665\ttotal: 31.7s\tremaining: 23.9s\n",
            "285:\tlearn: 8.9923543\ttotal: 31.8s\tremaining: 23.8s\n",
            "286:\tlearn: 8.9915104\ttotal: 31.9s\tremaining: 23.7s\n",
            "287:\tlearn: 8.9906401\ttotal: 32s\tremaining: 23.6s\n",
            "288:\tlearn: 8.9896033\ttotal: 32.2s\tremaining: 23.5s\n",
            "289:\tlearn: 8.9887920\ttotal: 32.3s\tremaining: 23.4s\n",
            "290:\tlearn: 8.9881738\ttotal: 32.4s\tremaining: 23.2s\n",
            "291:\tlearn: 8.9873860\ttotal: 32.5s\tremaining: 23.1s\n",
            "292:\tlearn: 8.9869815\ttotal: 32.6s\tremaining: 23s\n",
            "293:\tlearn: 8.9855165\ttotal: 32.7s\tremaining: 22.9s\n",
            "294:\tlearn: 8.9851377\ttotal: 32.8s\tremaining: 22.8s\n",
            "295:\tlearn: 8.9846604\ttotal: 32.9s\tremaining: 22.7s\n",
            "296:\tlearn: 8.9838478\ttotal: 33s\tremaining: 22.6s\n",
            "297:\tlearn: 8.9831217\ttotal: 33.1s\tremaining: 22.5s\n",
            "298:\tlearn: 8.9825045\ttotal: 33.3s\tremaining: 22.4s\n",
            "299:\tlearn: 8.9819374\ttotal: 33.4s\tremaining: 22.3s\n",
            "300:\tlearn: 8.9813491\ttotal: 33.5s\tremaining: 22.2s\n",
            "301:\tlearn: 8.9804604\ttotal: 33.6s\tremaining: 22.1s\n",
            "302:\tlearn: 8.9800128\ttotal: 33.8s\tremaining: 21.9s\n",
            "303:\tlearn: 8.9795640\ttotal: 33.9s\tremaining: 21.8s\n",
            "304:\tlearn: 8.9790286\ttotal: 34s\tremaining: 21.7s\n",
            "305:\tlearn: 8.9781753\ttotal: 34.1s\tremaining: 21.6s\n",
            "306:\tlearn: 8.9772467\ttotal: 34.2s\tremaining: 21.5s\n",
            "307:\tlearn: 8.9756643\ttotal: 34.3s\tremaining: 21.4s\n",
            "308:\tlearn: 8.9751355\ttotal: 34.4s\tremaining: 21.3s\n",
            "309:\tlearn: 8.9747102\ttotal: 34.5s\tremaining: 21.2s\n",
            "310:\tlearn: 8.9735991\ttotal: 34.6s\tremaining: 21.1s\n",
            "311:\tlearn: 8.9731280\ttotal: 34.8s\tremaining: 20.9s\n",
            "312:\tlearn: 8.9725530\ttotal: 34.9s\tremaining: 20.8s\n",
            "313:\tlearn: 8.9719090\ttotal: 35s\tremaining: 20.7s\n",
            "314:\tlearn: 8.9711530\ttotal: 35.1s\tremaining: 20.6s\n",
            "315:\tlearn: 8.9701963\ttotal: 35.2s\tremaining: 20.5s\n",
            "316:\tlearn: 8.9698162\ttotal: 35.3s\tremaining: 20.4s\n",
            "317:\tlearn: 8.9693457\ttotal: 35.4s\tremaining: 20.3s\n",
            "318:\tlearn: 8.9667636\ttotal: 35.5s\tremaining: 20.1s\n",
            "319:\tlearn: 8.9663090\ttotal: 35.6s\tremaining: 20s\n",
            "320:\tlearn: 8.9657146\ttotal: 35.7s\tremaining: 19.9s\n",
            "321:\tlearn: 8.9638078\ttotal: 35.8s\tremaining: 19.8s\n",
            "322:\tlearn: 8.9632186\ttotal: 35.9s\tremaining: 19.7s\n",
            "323:\tlearn: 8.9626170\ttotal: 36s\tremaining: 19.6s\n",
            "324:\tlearn: 8.9621152\ttotal: 36.1s\tremaining: 19.5s\n",
            "325:\tlearn: 8.9617745\ttotal: 36.2s\tremaining: 19.3s\n",
            "326:\tlearn: 8.9611332\ttotal: 36.4s\tremaining: 19.2s\n",
            "327:\tlearn: 8.9604700\ttotal: 36.5s\tremaining: 19.1s\n",
            "328:\tlearn: 8.9600083\ttotal: 36.6s\tremaining: 19s\n",
            "329:\tlearn: 8.9595033\ttotal: 36.7s\tremaining: 18.9s\n",
            "330:\tlearn: 8.9583321\ttotal: 36.8s\tremaining: 18.8s\n",
            "331:\tlearn: 8.9574886\ttotal: 36.9s\tremaining: 18.7s\n",
            "332:\tlearn: 8.9568897\ttotal: 37s\tremaining: 18.6s\n",
            "333:\tlearn: 8.9564770\ttotal: 37.1s\tremaining: 18.4s\n",
            "334:\tlearn: 8.9554103\ttotal: 37.2s\tremaining: 18.3s\n",
            "335:\tlearn: 8.9548549\ttotal: 37.3s\tremaining: 18.2s\n",
            "336:\tlearn: 8.9543650\ttotal: 37.5s\tremaining: 18.1s\n",
            "337:\tlearn: 8.9537949\ttotal: 37.6s\tremaining: 18s\n",
            "338:\tlearn: 8.9529972\ttotal: 37.7s\tremaining: 17.9s\n",
            "339:\tlearn: 8.9526137\ttotal: 37.8s\tremaining: 17.8s\n",
            "340:\tlearn: 8.9520386\ttotal: 37.9s\tremaining: 17.7s\n",
            "341:\tlearn: 8.9513367\ttotal: 38s\tremaining: 17.5s\n",
            "342:\tlearn: 8.9503035\ttotal: 38.1s\tremaining: 17.4s\n",
            "343:\tlearn: 8.9498555\ttotal: 38.2s\tremaining: 17.3s\n",
            "344:\tlearn: 8.9493370\ttotal: 38.3s\tremaining: 17.2s\n",
            "345:\tlearn: 8.9482285\ttotal: 38.4s\tremaining: 17.1s\n",
            "346:\tlearn: 8.9474130\ttotal: 38.5s\tremaining: 17s\n",
            "347:\tlearn: 8.9462800\ttotal: 38.6s\tremaining: 16.9s\n",
            "348:\tlearn: 8.9450395\ttotal: 38.7s\tremaining: 16.8s\n",
            "349:\tlearn: 8.9442884\ttotal: 38.9s\tremaining: 16.7s\n",
            "350:\tlearn: 8.9430529\ttotal: 39s\tremaining: 16.5s\n",
            "351:\tlearn: 8.9423067\ttotal: 39.1s\tremaining: 16.4s\n",
            "352:\tlearn: 8.9420168\ttotal: 39.2s\tremaining: 16.3s\n",
            "353:\tlearn: 8.9417891\ttotal: 39.3s\tremaining: 16.2s\n",
            "354:\tlearn: 8.9413531\ttotal: 39.4s\tremaining: 16.1s\n",
            "355:\tlearn: 8.9406640\ttotal: 39.5s\tremaining: 16s\n",
            "356:\tlearn: 8.9397543\ttotal: 39.6s\tremaining: 15.9s\n",
            "357:\tlearn: 8.9392513\ttotal: 39.7s\tremaining: 15.8s\n",
            "358:\tlearn: 8.9387453\ttotal: 39.8s\tremaining: 15.6s\n",
            "359:\tlearn: 8.9383852\ttotal: 39.9s\tremaining: 15.5s\n",
            "360:\tlearn: 8.9378330\ttotal: 40.1s\tremaining: 15.4s\n",
            "361:\tlearn: 8.9373784\ttotal: 40.2s\tremaining: 15.3s\n",
            "362:\tlearn: 8.9357252\ttotal: 40.3s\tremaining: 15.2s\n",
            "363:\tlearn: 8.9352814\ttotal: 40.4s\tremaining: 15.1s\n",
            "364:\tlearn: 8.9345538\ttotal: 40.5s\tremaining: 15s\n",
            "365:\tlearn: 8.9339635\ttotal: 40.6s\tremaining: 14.9s\n",
            "366:\tlearn: 8.9336181\ttotal: 40.7s\tremaining: 14.7s\n",
            "367:\tlearn: 8.9330968\ttotal: 40.8s\tremaining: 14.6s\n",
            "368:\tlearn: 8.9322746\ttotal: 40.9s\tremaining: 14.5s\n",
            "369:\tlearn: 8.9319394\ttotal: 41s\tremaining: 14.4s\n",
            "370:\tlearn: 8.9313589\ttotal: 41.1s\tremaining: 14.3s\n",
            "371:\tlearn: 8.9304964\ttotal: 41.3s\tremaining: 14.2s\n",
            "372:\tlearn: 8.9300679\ttotal: 41.4s\tremaining: 14.1s\n",
            "373:\tlearn: 8.9295094\ttotal: 41.5s\tremaining: 14s\n",
            "374:\tlearn: 8.9271072\ttotal: 41.6s\tremaining: 13.9s\n",
            "375:\tlearn: 8.9265787\ttotal: 41.7s\tremaining: 13.8s\n",
            "376:\tlearn: 8.9261053\ttotal: 41.8s\tremaining: 13.6s\n",
            "377:\tlearn: 8.9255273\ttotal: 41.9s\tremaining: 13.5s\n",
            "378:\tlearn: 8.9250635\ttotal: 42s\tremaining: 13.4s\n",
            "379:\tlearn: 8.9245281\ttotal: 42.1s\tremaining: 13.3s\n",
            "380:\tlearn: 8.9239224\ttotal: 42.3s\tremaining: 13.2s\n",
            "381:\tlearn: 8.9235694\ttotal: 42.4s\tremaining: 13.1s\n",
            "382:\tlearn: 8.9226488\ttotal: 42.5s\tremaining: 13s\n",
            "383:\tlearn: 8.9222508\ttotal: 42.6s\tremaining: 12.9s\n",
            "384:\tlearn: 8.9216631\ttotal: 42.7s\tremaining: 12.8s\n",
            "385:\tlearn: 8.9211650\ttotal: 42.8s\tremaining: 12.6s\n",
            "386:\tlearn: 8.9205101\ttotal: 42.9s\tremaining: 12.5s\n",
            "387:\tlearn: 8.9199173\ttotal: 43s\tremaining: 12.4s\n",
            "388:\tlearn: 8.9189866\ttotal: 43.2s\tremaining: 12.3s\n",
            "389:\tlearn: 8.9187858\ttotal: 43.3s\tremaining: 12.2s\n",
            "390:\tlearn: 8.9175205\ttotal: 43.4s\tremaining: 12.1s\n",
            "391:\tlearn: 8.9170838\ttotal: 43.5s\tremaining: 12s\n",
            "392:\tlearn: 8.9160657\ttotal: 43.6s\tremaining: 11.9s\n",
            "393:\tlearn: 8.9155355\ttotal: 43.7s\tremaining: 11.8s\n",
            "394:\tlearn: 8.9147729\ttotal: 43.9s\tremaining: 11.7s\n",
            "395:\tlearn: 8.9142689\ttotal: 44s\tremaining: 11.6s\n",
            "396:\tlearn: 8.9133711\ttotal: 44.1s\tremaining: 11.4s\n",
            "397:\tlearn: 8.9126978\ttotal: 44.2s\tremaining: 11.3s\n",
            "398:\tlearn: 8.9119207\ttotal: 44.3s\tremaining: 11.2s\n",
            "399:\tlearn: 8.9116301\ttotal: 44.4s\tremaining: 11.1s\n",
            "400:\tlearn: 8.9096530\ttotal: 44.5s\tremaining: 11s\n",
            "401:\tlearn: 8.9090113\ttotal: 44.7s\tremaining: 10.9s\n",
            "402:\tlearn: 8.9083698\ttotal: 44.8s\tremaining: 10.8s\n",
            "403:\tlearn: 8.9082062\ttotal: 44.9s\tremaining: 10.7s\n",
            "404:\tlearn: 8.9061947\ttotal: 45s\tremaining: 10.5s\n",
            "405:\tlearn: 8.9056274\ttotal: 45.1s\tremaining: 10.4s\n",
            "406:\tlearn: 8.9037619\ttotal: 45.2s\tremaining: 10.3s\n",
            "407:\tlearn: 8.9030123\ttotal: 45.3s\tremaining: 10.2s\n",
            "408:\tlearn: 8.9012220\ttotal: 45.4s\tremaining: 10.1s\n",
            "409:\tlearn: 8.9002448\ttotal: 45.5s\tremaining: 10s\n",
            "410:\tlearn: 8.9000260\ttotal: 45.6s\tremaining: 9.88s\n",
            "411:\tlearn: 8.8988013\ttotal: 45.7s\tremaining: 9.77s\n",
            "412:\tlearn: 8.8983122\ttotal: 45.9s\tremaining: 9.66s\n",
            "413:\tlearn: 8.8976787\ttotal: 46s\tremaining: 9.55s\n",
            "414:\tlearn: 8.8965362\ttotal: 46.1s\tremaining: 9.44s\n",
            "415:\tlearn: 8.8961007\ttotal: 46.2s\tremaining: 9.32s\n",
            "416:\tlearn: 8.8955978\ttotal: 46.3s\tremaining: 9.21s\n",
            "417:\tlearn: 8.8949861\ttotal: 46.4s\tremaining: 9.1s\n",
            "418:\tlearn: 8.8936164\ttotal: 46.5s\tremaining: 8.99s\n",
            "419:\tlearn: 8.8926978\ttotal: 46.6s\tremaining: 8.88s\n",
            "420:\tlearn: 8.8919280\ttotal: 46.7s\tremaining: 8.77s\n",
            "421:\tlearn: 8.8915093\ttotal: 46.8s\tremaining: 8.65s\n",
            "422:\tlearn: 8.8906172\ttotal: 46.9s\tremaining: 8.54s\n",
            "423:\tlearn: 8.8899227\ttotal: 47s\tremaining: 8.43s\n",
            "424:\tlearn: 8.8894741\ttotal: 47.2s\tremaining: 8.32s\n",
            "425:\tlearn: 8.8883119\ttotal: 47.3s\tremaining: 8.21s\n",
            "426:\tlearn: 8.8875497\ttotal: 47.4s\tremaining: 8.1s\n",
            "427:\tlearn: 8.8865799\ttotal: 47.5s\tremaining: 7.99s\n",
            "428:\tlearn: 8.8852206\ttotal: 47.6s\tremaining: 7.88s\n",
            "429:\tlearn: 8.8847529\ttotal: 47.7s\tremaining: 7.77s\n",
            "430:\tlearn: 8.8839681\ttotal: 47.9s\tremaining: 7.66s\n",
            "431:\tlearn: 8.8835615\ttotal: 48s\tremaining: 7.55s\n",
            "432:\tlearn: 8.8830238\ttotal: 48.1s\tremaining: 7.43s\n",
            "433:\tlearn: 8.8824124\ttotal: 48.2s\tremaining: 7.33s\n",
            "434:\tlearn: 8.8821995\ttotal: 48.3s\tremaining: 7.21s\n",
            "435:\tlearn: 8.8816238\ttotal: 48.4s\tremaining: 7.11s\n",
            "436:\tlearn: 8.8806297\ttotal: 48.5s\tremaining: 7s\n",
            "437:\tlearn: 8.8801066\ttotal: 48.6s\tremaining: 6.89s\n",
            "438:\tlearn: 8.8791005\ttotal: 48.8s\tremaining: 6.77s\n",
            "439:\tlearn: 8.8786012\ttotal: 48.9s\tremaining: 6.66s\n",
            "440:\tlearn: 8.8780092\ttotal: 49s\tremaining: 6.55s\n",
            "441:\tlearn: 8.8771757\ttotal: 49.1s\tremaining: 6.44s\n",
            "442:\tlearn: 8.8767384\ttotal: 49.2s\tremaining: 6.33s\n",
            "443:\tlearn: 8.8763290\ttotal: 49.3s\tremaining: 6.22s\n",
            "444:\tlearn: 8.8753770\ttotal: 49.4s\tremaining: 6.11s\n",
            "445:\tlearn: 8.8748264\ttotal: 49.5s\tremaining: 6s\n",
            "446:\tlearn: 8.8741877\ttotal: 49.6s\tremaining: 5.88s\n",
            "447:\tlearn: 8.8738237\ttotal: 49.7s\tremaining: 5.77s\n",
            "448:\tlearn: 8.8733350\ttotal: 49.8s\tremaining: 5.66s\n",
            "449:\tlearn: 8.8729294\ttotal: 50s\tremaining: 5.55s\n",
            "450:\tlearn: 8.8720859\ttotal: 50.1s\tremaining: 5.44s\n",
            "451:\tlearn: 8.8717475\ttotal: 50.2s\tremaining: 5.33s\n",
            "452:\tlearn: 8.8713917\ttotal: 50.3s\tremaining: 5.21s\n",
            "453:\tlearn: 8.8711785\ttotal: 50.4s\tremaining: 5.11s\n",
            "454:\tlearn: 8.8706862\ttotal: 50.5s\tremaining: 4.99s\n",
            "455:\tlearn: 8.8702123\ttotal: 50.6s\tremaining: 4.88s\n",
            "456:\tlearn: 8.8699519\ttotal: 50.7s\tremaining: 4.77s\n",
            "457:\tlearn: 8.8693677\ttotal: 50.8s\tremaining: 4.66s\n",
            "458:\tlearn: 8.8689222\ttotal: 50.9s\tremaining: 4.55s\n",
            "459:\tlearn: 8.8676930\ttotal: 51s\tremaining: 4.44s\n",
            "460:\tlearn: 8.8673238\ttotal: 51.2s\tremaining: 4.33s\n",
            "461:\tlearn: 8.8665129\ttotal: 51.3s\tremaining: 4.22s\n",
            "462:\tlearn: 8.8659747\ttotal: 51.4s\tremaining: 4.11s\n",
            "463:\tlearn: 8.8652879\ttotal: 51.5s\tremaining: 4s\n",
            "464:\tlearn: 8.8650439\ttotal: 51.6s\tremaining: 3.88s\n",
            "465:\tlearn: 8.8621536\ttotal: 51.7s\tremaining: 3.77s\n",
            "466:\tlearn: 8.8617404\ttotal: 51.8s\tremaining: 3.66s\n",
            "467:\tlearn: 8.8609646\ttotal: 51.9s\tremaining: 3.55s\n",
            "468:\tlearn: 8.8593888\ttotal: 52s\tremaining: 3.44s\n",
            "469:\tlearn: 8.8588692\ttotal: 52.1s\tremaining: 3.33s\n",
            "470:\tlearn: 8.8583370\ttotal: 52.3s\tremaining: 3.22s\n",
            "471:\tlearn: 8.8575334\ttotal: 52.4s\tremaining: 3.1s\n",
            "472:\tlearn: 8.8563078\ttotal: 52.5s\tremaining: 3s\n",
            "473:\tlearn: 8.8555659\ttotal: 52.6s\tremaining: 2.88s\n",
            "474:\tlearn: 8.8551307\ttotal: 52.7s\tremaining: 2.77s\n",
            "475:\tlearn: 8.8545594\ttotal: 52.8s\tremaining: 2.66s\n",
            "476:\tlearn: 8.8542366\ttotal: 52.9s\tremaining: 2.55s\n",
            "477:\tlearn: 8.8539010\ttotal: 53s\tremaining: 2.44s\n",
            "478:\tlearn: 8.8527173\ttotal: 53.1s\tremaining: 2.33s\n",
            "479:\tlearn: 8.8517666\ttotal: 53.2s\tremaining: 2.22s\n",
            "480:\tlearn: 8.8508863\ttotal: 53.3s\tremaining: 2.11s\n",
            "481:\tlearn: 8.8504744\ttotal: 53.5s\tremaining: 2s\n",
            "482:\tlearn: 8.8501227\ttotal: 53.6s\tremaining: 1.89s\n",
            "483:\tlearn: 8.8497645\ttotal: 53.7s\tremaining: 1.77s\n",
            "484:\tlearn: 8.8493108\ttotal: 53.8s\tremaining: 1.66s\n",
            "485:\tlearn: 8.8487220\ttotal: 53.9s\tremaining: 1.55s\n",
            "486:\tlearn: 8.8482748\ttotal: 54s\tremaining: 1.44s\n",
            "487:\tlearn: 8.8477470\ttotal: 54.1s\tremaining: 1.33s\n",
            "488:\tlearn: 8.8470253\ttotal: 54.2s\tremaining: 1.22s\n",
            "489:\tlearn: 8.8462645\ttotal: 54.4s\tremaining: 1.11s\n",
            "490:\tlearn: 8.8455791\ttotal: 54.5s\tremaining: 998ms\n",
            "491:\tlearn: 8.8452455\ttotal: 54.6s\tremaining: 887ms\n",
            "492:\tlearn: 8.8449439\ttotal: 54.7s\tremaining: 776ms\n",
            "493:\tlearn: 8.8443935\ttotal: 54.8s\tremaining: 666ms\n",
            "494:\tlearn: 8.8437596\ttotal: 54.9s\tremaining: 555ms\n",
            "495:\tlearn: 8.8427964\ttotal: 55s\tremaining: 444ms\n",
            "496:\tlearn: 8.8423657\ttotal: 55.1s\tremaining: 333ms\n",
            "497:\tlearn: 8.8407583\ttotal: 55.2s\tremaining: 222ms\n",
            "498:\tlearn: 8.8398509\ttotal: 55.3s\tremaining: 111ms\n",
            "499:\tlearn: 8.8393120\ttotal: 55.5s\tremaining: 0us\n"
          ]
        }
      ]
    },
    {
      "cell_type": "code",
      "source": [
        "# sub.congestion = pred\n",
        "# sub.to_csv('Catboost.csv')"
      ],
      "metadata": {
        "id": "CIZ952NF_XoO"
      },
      "execution_count": null,
      "outputs": []
    },
    {
      "cell_type": "markdown",
      "source": [
        "Loss = 6.10"
      ],
      "metadata": {
        "id": "XWW6uc2SHWhr"
      }
    },
    {
      "cell_type": "markdown",
      "source": [
        "## Lightgbm"
      ],
      "metadata": {
        "id": "coALcknpB55V"
      }
    },
    {
      "cell_type": "code",
      "source": [
        "xTrain"
      ],
      "metadata": {
        "colab": {
          "base_uri": "https://localhost:8080/",
          "height": 423
        },
        "id": "cRSutEAIEXOA",
        "outputId": "249cd9de-dde5-4287-ff2b-0f2384d1b17c"
      },
      "execution_count": null,
      "outputs": [
        {
          "output_type": "execute_result",
          "data": {
            "text/html": [
              "\n",
              "  <div id=\"df-fa9bcf7e-76c0-476d-9c07-eb2d39e13e6f\">\n",
              "    <div class=\"colab-df-container\">\n",
              "      <div>\n",
              "<style scoped>\n",
              "    .dataframe tbody tr th:only-of-type {\n",
              "        vertical-align: middle;\n",
              "    }\n",
              "\n",
              "    .dataframe tbody tr th {\n",
              "        vertical-align: top;\n",
              "    }\n",
              "\n",
              "    .dataframe thead th {\n",
              "        text-align: right;\n",
              "    }\n",
              "</style>\n",
              "<table border=\"1\" class=\"dataframe\">\n",
              "  <thead>\n",
              "    <tr style=\"text-align: right;\">\n",
              "      <th></th>\n",
              "      <th>row_id</th>\n",
              "      <th>time</th>\n",
              "      <th>x</th>\n",
              "      <th>y</th>\n",
              "      <th>direction</th>\n",
              "      <th>weekday</th>\n",
              "      <th>hour</th>\n",
              "      <th>minute</th>\n",
              "      <th>sin</th>\n",
              "      <th>cos</th>\n",
              "    </tr>\n",
              "  </thead>\n",
              "  <tbody>\n",
              "    <tr>\n",
              "      <th>807741</th>\n",
              "      <td>807741</td>\n",
              "      <td>1991-09-21 13:20:00</td>\n",
              "      <td>2</td>\n",
              "      <td>2</td>\n",
              "      <td>2</td>\n",
              "      <td>5</td>\n",
              "      <td>13</td>\n",
              "      <td>20</td>\n",
              "      <td>1.000000</td>\n",
              "      <td>0.000000</td>\n",
              "    </tr>\n",
              "    <tr>\n",
              "      <th>758873</th>\n",
              "      <td>758873</td>\n",
              "      <td>1991-09-10 18:20:00</td>\n",
              "      <td>2</td>\n",
              "      <td>3</td>\n",
              "      <td>5</td>\n",
              "      <td>1</td>\n",
              "      <td>18</td>\n",
              "      <td>20</td>\n",
              "      <td>-0.707107</td>\n",
              "      <td>-0.707107</td>\n",
              "    </tr>\n",
              "    <tr>\n",
              "      <th>297262</th>\n",
              "      <td>297262</td>\n",
              "      <td>1991-06-03 17:40:00</td>\n",
              "      <td>1</td>\n",
              "      <td>0</td>\n",
              "      <td>2</td>\n",
              "      <td>0</td>\n",
              "      <td>17</td>\n",
              "      <td>40</td>\n",
              "      <td>1.000000</td>\n",
              "      <td>0.000000</td>\n",
              "    </tr>\n",
              "    <tr>\n",
              "      <th>313964</th>\n",
              "      <td>313964</td>\n",
              "      <td>1991-06-07 07:20:00</td>\n",
              "      <td>0</td>\n",
              "      <td>3</td>\n",
              "      <td>4</td>\n",
              "      <td>4</td>\n",
              "      <td>7</td>\n",
              "      <td>20</td>\n",
              "      <td>0.000000</td>\n",
              "      <td>-1.000000</td>\n",
              "    </tr>\n",
              "    <tr>\n",
              "      <th>761510</th>\n",
              "      <td>761510</td>\n",
              "      <td>1991-09-11 08:00:00</td>\n",
              "      <td>1</td>\n",
              "      <td>3</td>\n",
              "      <td>1</td>\n",
              "      <td>2</td>\n",
              "      <td>8</td>\n",
              "      <td>0</td>\n",
              "      <td>0.707107</td>\n",
              "      <td>0.707107</td>\n",
              "    </tr>\n",
              "    <tr>\n",
              "      <th>...</th>\n",
              "      <td>...</td>\n",
              "      <td>...</td>\n",
              "      <td>...</td>\n",
              "      <td>...</td>\n",
              "      <td>...</td>\n",
              "      <td>...</td>\n",
              "      <td>...</td>\n",
              "      <td>...</td>\n",
              "      <td>...</td>\n",
              "      <td>...</td>\n",
              "    </tr>\n",
              "    <tr>\n",
              "      <th>259178</th>\n",
              "      <td>259178</td>\n",
              "      <td>1991-05-26 14:00:00</td>\n",
              "      <td>1</td>\n",
              "      <td>1</td>\n",
              "      <td>2</td>\n",
              "      <td>6</td>\n",
              "      <td>14</td>\n",
              "      <td>0</td>\n",
              "      <td>1.000000</td>\n",
              "      <td>0.000000</td>\n",
              "    </tr>\n",
              "    <tr>\n",
              "      <th>365838</th>\n",
              "      <td>365838</td>\n",
              "      <td>1991-06-18 10:40:00</td>\n",
              "      <td>1</td>\n",
              "      <td>0</td>\n",
              "      <td>0</td>\n",
              "      <td>1</td>\n",
              "      <td>10</td>\n",
              "      <td>40</td>\n",
              "      <td>0.000000</td>\n",
              "      <td>1.000000</td>\n",
              "    </tr>\n",
              "    <tr>\n",
              "      <th>131932</th>\n",
              "      <td>131932</td>\n",
              "      <td>1991-04-29 07:00:00</td>\n",
              "      <td>2</td>\n",
              "      <td>1</td>\n",
              "      <td>4</td>\n",
              "      <td>0</td>\n",
              "      <td>7</td>\n",
              "      <td>0</td>\n",
              "      <td>0.000000</td>\n",
              "      <td>-1.000000</td>\n",
              "    </tr>\n",
              "    <tr>\n",
              "      <th>671155</th>\n",
              "      <td>671155</td>\n",
              "      <td>1991-08-22 19:20:00</td>\n",
              "      <td>1</td>\n",
              "      <td>2</td>\n",
              "      <td>4</td>\n",
              "      <td>3</td>\n",
              "      <td>19</td>\n",
              "      <td>20</td>\n",
              "      <td>0.000000</td>\n",
              "      <td>-1.000000</td>\n",
              "    </tr>\n",
              "    <tr>\n",
              "      <th>121958</th>\n",
              "      <td>121958</td>\n",
              "      <td>1991-04-27 04:00:00</td>\n",
              "      <td>1</td>\n",
              "      <td>0</td>\n",
              "      <td>0</td>\n",
              "      <td>5</td>\n",
              "      <td>4</td>\n",
              "      <td>0</td>\n",
              "      <td>0.000000</td>\n",
              "      <td>1.000000</td>\n",
              "    </tr>\n",
              "  </tbody>\n",
              "</table>\n",
              "<p>568719 rows × 10 columns</p>\n",
              "</div>\n",
              "      <button class=\"colab-df-convert\" onclick=\"convertToInteractive('df-fa9bcf7e-76c0-476d-9c07-eb2d39e13e6f')\"\n",
              "              title=\"Convert this dataframe to an interactive table.\"\n",
              "              style=\"display:none;\">\n",
              "        \n",
              "  <svg xmlns=\"http://www.w3.org/2000/svg\" height=\"24px\"viewBox=\"0 0 24 24\"\n",
              "       width=\"24px\">\n",
              "    <path d=\"M0 0h24v24H0V0z\" fill=\"none\"/>\n",
              "    <path d=\"M18.56 5.44l.94 2.06.94-2.06 2.06-.94-2.06-.94-.94-2.06-.94 2.06-2.06.94zm-11 1L8.5 8.5l.94-2.06 2.06-.94-2.06-.94L8.5 2.5l-.94 2.06-2.06.94zm10 10l.94 2.06.94-2.06 2.06-.94-2.06-.94-.94-2.06-.94 2.06-2.06.94z\"/><path d=\"M17.41 7.96l-1.37-1.37c-.4-.4-.92-.59-1.43-.59-.52 0-1.04.2-1.43.59L10.3 9.45l-7.72 7.72c-.78.78-.78 2.05 0 2.83L4 21.41c.39.39.9.59 1.41.59.51 0 1.02-.2 1.41-.59l7.78-7.78 2.81-2.81c.8-.78.8-2.07 0-2.86zM5.41 20L4 18.59l7.72-7.72 1.47 1.35L5.41 20z\"/>\n",
              "  </svg>\n",
              "      </button>\n",
              "      \n",
              "  <style>\n",
              "    .colab-df-container {\n",
              "      display:flex;\n",
              "      flex-wrap:wrap;\n",
              "      gap: 12px;\n",
              "    }\n",
              "\n",
              "    .colab-df-convert {\n",
              "      background-color: #E8F0FE;\n",
              "      border: none;\n",
              "      border-radius: 50%;\n",
              "      cursor: pointer;\n",
              "      display: none;\n",
              "      fill: #1967D2;\n",
              "      height: 32px;\n",
              "      padding: 0 0 0 0;\n",
              "      width: 32px;\n",
              "    }\n",
              "\n",
              "    .colab-df-convert:hover {\n",
              "      background-color: #E2EBFA;\n",
              "      box-shadow: 0px 1px 2px rgba(60, 64, 67, 0.3), 0px 1px 3px 1px rgba(60, 64, 67, 0.15);\n",
              "      fill: #174EA6;\n",
              "    }\n",
              "\n",
              "    [theme=dark] .colab-df-convert {\n",
              "      background-color: #3B4455;\n",
              "      fill: #D2E3FC;\n",
              "    }\n",
              "\n",
              "    [theme=dark] .colab-df-convert:hover {\n",
              "      background-color: #434B5C;\n",
              "      box-shadow: 0px 1px 3px 1px rgba(0, 0, 0, 0.15);\n",
              "      filter: drop-shadow(0px 1px 2px rgba(0, 0, 0, 0.3));\n",
              "      fill: #FFFFFF;\n",
              "    }\n",
              "  </style>\n",
              "\n",
              "      <script>\n",
              "        const buttonEl =\n",
              "          document.querySelector('#df-fa9bcf7e-76c0-476d-9c07-eb2d39e13e6f button.colab-df-convert');\n",
              "        buttonEl.style.display =\n",
              "          google.colab.kernel.accessAllowed ? 'block' : 'none';\n",
              "\n",
              "        async function convertToInteractive(key) {\n",
              "          const element = document.querySelector('#df-fa9bcf7e-76c0-476d-9c07-eb2d39e13e6f');\n",
              "          const dataTable =\n",
              "            await google.colab.kernel.invokeFunction('convertToInteractive',\n",
              "                                                     [key], {});\n",
              "          if (!dataTable) return;\n",
              "\n",
              "          const docLinkHtml = 'Like what you see? Visit the ' +\n",
              "            '<a target=\"_blank\" href=https://colab.research.google.com/notebooks/data_table.ipynb>data table notebook</a>'\n",
              "            + ' to learn more about interactive tables.';\n",
              "          element.innerHTML = '';\n",
              "          dataTable['output_type'] = 'display_data';\n",
              "          await google.colab.output.renderOutput(dataTable, element);\n",
              "          const docLink = document.createElement('div');\n",
              "          docLink.innerHTML = docLinkHtml;\n",
              "          element.appendChild(docLink);\n",
              "        }\n",
              "      </script>\n",
              "    </div>\n",
              "  </div>\n",
              "  "
            ],
            "text/plain": [
              "        row_id                time  x  y  ...  hour  minute       sin       cos\n",
              "807741  807741 1991-09-21 13:20:00  2  2  ...    13      20  1.000000  0.000000\n",
              "758873  758873 1991-09-10 18:20:00  2  3  ...    18      20 -0.707107 -0.707107\n",
              "297262  297262 1991-06-03 17:40:00  1  0  ...    17      40  1.000000  0.000000\n",
              "313964  313964 1991-06-07 07:20:00  0  3  ...     7      20  0.000000 -1.000000\n",
              "761510  761510 1991-09-11 08:00:00  1  3  ...     8       0  0.707107  0.707107\n",
              "...        ...                 ... .. ..  ...   ...     ...       ...       ...\n",
              "259178  259178 1991-05-26 14:00:00  1  1  ...    14       0  1.000000  0.000000\n",
              "365838  365838 1991-06-18 10:40:00  1  0  ...    10      40  0.000000  1.000000\n",
              "131932  131932 1991-04-29 07:00:00  2  1  ...     7       0  0.000000 -1.000000\n",
              "671155  671155 1991-08-22 19:20:00  1  2  ...    19      20  0.000000 -1.000000\n",
              "121958  121958 1991-04-27 04:00:00  1  0  ...     4       0  0.000000  1.000000\n",
              "\n",
              "[568719 rows x 10 columns]"
            ]
          },
          "metadata": {},
          "execution_count": 50
        }
      ]
    },
    {
      "cell_type": "code",
      "source": [
        "from lightgbm import LGBMRegressor"
      ],
      "metadata": {
        "id": "BFGg7jViB5gj"
      },
      "execution_count": null,
      "outputs": []
    },
    {
      "cell_type": "code",
      "source": [
        "rmses = []\n",
        "for learninnRate in np.arange (0.01,1,0.01):\n",
        "  LGBMModel = LGBMRegressor(n_estimators  = 100,\n",
        "                              learning_rate=learninnRate, \n",
        "                              max_depth  = 6)\n",
        "\n",
        "  LGBMModel.fit(xTrain.drop(columns='time'),yTrain)\n",
        "  pred = LGBMModel.predict(xTest.drop(columns='time')) \n",
        "  rmse = (np.sqrt(mean_squared_error(yTest, pred)))\n",
        "  rmses.append(rmse)\n"
      ],
      "metadata": {
        "id": "gUSkr8RoBXA9"
      },
      "execution_count": null,
      "outputs": []
    },
    {
      "cell_type": "code",
      "source": [
        "plt.plot(np.arange (0.01,1,0.01),rmses)"
      ],
      "metadata": {
        "colab": {
          "base_uri": "https://localhost:8080/",
          "height": 282
        },
        "id": "xMFZZqMUD7IK",
        "outputId": "add28be6-6cff-49e0-ca29-d7026fb6ca9c"
      },
      "execution_count": null,
      "outputs": [
        {
          "output_type": "execute_result",
          "data": {
            "text/plain": [
              "[<matplotlib.lines.Line2D at 0x7f90a26d2390>]"
            ]
          },
          "metadata": {},
          "execution_count": 52
        },
        {
          "output_type": "display_data",
          "data": {
            "image/png": "[encoded data removed]",
            "text/plain": [
              "<Figure size 432x288 with 1 Axes>"
            ]
          },
          "metadata": {
            "needs_background": "light"
          }
        }
      ]
    },
    {
      "cell_type": "code",
      "source": [
        "LGBMModel = LGBMRegressor(n_estimators  = 100,\n",
        "                              learning_rate=1, \n",
        "                              max_depth  = 6)\n",
        "\n",
        "LGBMModel.fit(x.drop(columns='time'),y)\n",
        "pred = LGBMModel.predict(test.drop(columns='time')) "
      ],
      "metadata": {
        "id": "sw-jj4Y-Ejui"
      },
      "execution_count": null,
      "outputs": []
    },
    {
      "cell_type": "code",
      "source": [
        "# sub.congestion = pred\n",
        "# sub.to_csv('LGBM.csv')"
      ],
      "metadata": {
        "id": "klF47zDiGa5Y"
      },
      "execution_count": null,
      "outputs": []
    },
    {
      "cell_type": "markdown",
      "source": [
        "Loss = 6.013"
      ],
      "metadata": {
        "id": "_EQiex9HHStP"
      }
    },
    {
      "cell_type": "markdown",
      "source": [
        "## XGboost"
      ],
      "metadata": {
        "id": "keCpH85_Hk5S"
      }
    },
    {
      "cell_type": "code",
      "source": [
        "from xgboost import  XGBRegressor"
      ],
      "metadata": {
        "id": "itUXyiAbHSOK"
      },
      "execution_count": null,
      "outputs": []
    },
    {
      "cell_type": "code",
      "source": [
        "rmses = []\n",
        "for learninnRate in np.arange(0.01,1.5,0.1):\n",
        "  XGBModel = XGBRegressor(n_estimators  = 100,\n",
        "                                learning_rate=learninnRate, \n",
        "                                max_depth  = 6)\n",
        "  XGBModel.fit(xTrain.drop(columns='time'),yTrain)\n",
        "  pred = XGBModel.predict(xTest.drop(columns='time')) \n",
        "  rmse = (np.sqrt(mean_squared_error(yTest, pred)))\n",
        "  rmses.append(rmse)"
      ],
      "metadata": {
        "colab": {
          "base_uri": "https://localhost:8080/"
        },
        "id": "DMqLYUctHBr1",
        "outputId": "7aa0a3ea-b208-46f8-bdbf-af492b6690be"
      },
      "execution_count": null,
      "outputs": [
        {
          "output_type": "stream",
          "name": "stdout",
          "text": [
            "[14:15:39] WARNING: /workspace/src/objective/regression_obj.cu:152: reg:linear is now deprecated in favor of reg:squarederror.\n",
            "[14:16:45] WARNING: /workspace/src/objective/regression_obj.cu:152: reg:linear is now deprecated in favor of reg:squarederror.\n",
            "[14:17:47] WARNING: /workspace/src/objective/regression_obj.cu:152: reg:linear is now deprecated in favor of reg:squarederror.\n",
            "[14:18:48] WARNING: /workspace/src/objective/regression_obj.cu:152: reg:linear is now deprecated in favor of reg:squarederror.\n",
            "[14:19:47] WARNING: /workspace/src/objective/regression_obj.cu:152: reg:linear is now deprecated in favor of reg:squarederror.\n",
            "[14:20:46] WARNING: /workspace/src/objective/regression_obj.cu:152: reg:linear is now deprecated in favor of reg:squarederror.\n",
            "[14:21:44] WARNING: /workspace/src/objective/regression_obj.cu:152: reg:linear is now deprecated in favor of reg:squarederror.\n",
            "[14:22:42] WARNING: /workspace/src/objective/regression_obj.cu:152: reg:linear is now deprecated in favor of reg:squarederror.\n",
            "[14:23:41] WARNING: /workspace/src/objective/regression_obj.cu:152: reg:linear is now deprecated in favor of reg:squarederror.\n",
            "[14:24:39] WARNING: /workspace/src/objective/regression_obj.cu:152: reg:linear is now deprecated in favor of reg:squarederror.\n",
            "[14:25:38] WARNING: /workspace/src/objective/regression_obj.cu:152: reg:linear is now deprecated in favor of reg:squarederror.\n",
            "[14:26:37] WARNING: /workspace/src/objective/regression_obj.cu:152: reg:linear is now deprecated in favor of reg:squarederror.\n",
            "[14:27:37] WARNING: /workspace/src/objective/regression_obj.cu:152: reg:linear is now deprecated in favor of reg:squarederror.\n",
            "[14:28:37] WARNING: /workspace/src/objective/regression_obj.cu:152: reg:linear is now deprecated in favor of reg:squarederror.\n",
            "[14:29:38] WARNING: /workspace/src/objective/regression_obj.cu:152: reg:linear is now deprecated in favor of reg:squarederror.\n"
          ]
        }
      ]
    },
    {
      "cell_type": "code",
      "source": [
        "plt.plot(np.arange(0.01,1.5,0.1),rmses)"
      ],
      "metadata": {
        "colab": {
          "base_uri": "https://localhost:8080/",
          "height": 282
        },
        "id": "jOjxrenTISNM",
        "outputId": "1e2a136d-1395-4af2-cb46-b7f8d76f29d9"
      },
      "execution_count": null,
      "outputs": [
        {
          "output_type": "execute_result",
          "data": {
            "text/plain": [
              "[<matplotlib.lines.Line2D at 0x7f90999336d0>]"
            ]
          },
          "metadata": {},
          "execution_count": 65
        },
        {
          "output_type": "display_data",
          "data": {
            "image/png": "[encoded data removed]",
            "text/plain": [
              "<Figure size 432x288 with 1 Axes>"
            ]
          },
          "metadata": {
            "needs_background": "light"
          }
        }
      ]
    },
    {
      "cell_type": "code",
      "source": [
        "  XGBModel = XGBRegressor(n_estimators  = 100,\n",
        "                                learning_rate= 0.5, \n",
        "                                max_depth  = 6)\n",
        "  XGBModel.fit(x.drop(columns='time'),y)\n",
        "  pred = XGBModel.predict(test.drop(columns='time')) "
      ],
      "metadata": {
        "colab": {
          "base_uri": "https://localhost:8080/"
        },
        "id": "N6W5axufNCnH",
        "outputId": "85e7067b-4ef0-47e6-ca4a-1d879ab9604e"
      },
      "execution_count": null,
      "outputs": [
        {
          "output_type": "stream",
          "name": "stdout",
          "text": [
            "[14:35:37] WARNING: /workspace/src/objective/regression_obj.cu:152: reg:linear is now deprecated in favor of reg:squarederror.\n"
          ]
        }
      ]
    },
    {
      "cell_type": "code",
      "source": [
        "sub.congestion = pred\n",
        "sub.to_csv('XGBoost.csv')"
      ],
      "metadata": {
        "id": "X3wKL8lLNRVm"
      },
      "execution_count": null,
      "outputs": []
    },
    {
      "cell_type": "markdown",
      "source": [
        "Loss: 6.01"
      ],
      "metadata": {
        "id": "T4i0QCBD9P4n"
      }
    },
    {
      "cell_type": "markdown",
      "source": [
        "## Random Forest"
      ],
      "metadata": {
        "id": "r9v6NxkQ9Oxr"
      }
    },
    {
      "cell_type": "code",
      "source": [
        "import pandas as pd\n",
        "import numpy as np\n",
        "from math import sin, cos, pi\n",
        "train = pd.read_csv('/content/train.csv',parse_dates=['time'])\n",
        "test = pd.read_csv('/content/test.csv',parse_dates=['time'])\n",
        "sub = pd.read_csv('/content/sample_submission.csv', index_col=0)"
      ],
      "metadata": {
        "id": "uHzejwRFDopq"
      },
      "execution_count": 38,
      "outputs": []
    },
    {
      "cell_type": "code",
      "source": [
        "def DirectionConcat(data):\n",
        " return  data.apply(lambda row: f\"{row.x}-{row.y}-{row.direction}\", axis=1).values.reshape([-1, 1])\n",
        "\n",
        "trainCopy = train.copy()\n",
        "testCopy = test.copy()\n",
        "for df in [trainCopy, testCopy]:\n",
        "    df['Dir_Pos'] = DirectionConcat(df)"
      ],
      "metadata": {
        "id": "7BbxkBCpAJkO"
      },
      "execution_count": 39,
      "outputs": []
    },
    {
      "cell_type": "code",
      "source": [
        "from sklearn.preprocessing import OneHotEncoder\n",
        "ohe = OneHotEncoder(drop='first', sparse=False)\n",
        "ohe.fit(trainCopy[['Dir_Pos']])\n",
        "\n",
        "def engineer(df):\n",
        "    \"\"\"Return a new dataframe with the engineered features\"\"\"\n",
        "    \n",
        "    new_df = pd.DataFrame(ohe.transform(df[['Dir_Pos']]),\n",
        "                          columns=ohe.categories_[0][1:],\n",
        "                          index=df.index)\n",
        "    new_df['saturday'] = df.time.dt.weekday == 5\n",
        "    new_df['sunday'] = df.time.dt.weekday == 6\n",
        "    new_df['daytime'] = df.time.dt.hour * 60 + df.time.dt.minute\n",
        "    new_df['dayofyear'] = df.time.dt.dayofyear # to model the trend\n",
        "    return new_df\n",
        "\n",
        "\n",
        "train = engineer(trainCopy)\n",
        "test = engineer(testCopy)\n",
        "\n",
        "train['congestion'] = trainCopy.congestion\n",
        "\n",
        "features = list(test.columns)\n",
        "print(list(features))"
      ],
      "metadata": {
        "colab": {
          "base_uri": "https://localhost:8080/"
        },
        "id": "ksvKKOFJD7X6",
        "outputId": "91698192-b28c-454e-c721-1ea1630365b3"
      },
      "execution_count": 41,
      "outputs": [
        {
          "output_type": "stream",
          "name": "stdout",
          "text": [
            "['0-0-NB', '0-0-SB', '0-1-EB', '0-1-NB', '0-1-SB', '0-1-WB', '0-2-EB', '0-2-NB', '0-2-SB', '0-2-WB', '0-3-EB', '0-3-NB', '0-3-NE', '0-3-SB', '0-3-SW', '0-3-WB', '1-0-EB', '1-0-NB', '1-0-NE', '1-0-SB', '1-0-SW', '1-0-WB', '1-1-EB', '1-1-NB', '1-1-SB', '1-1-WB', '1-2-EB', '1-2-NB', '1-2-NE', '1-2-SB', '1-2-SW', '1-2-WB', '1-3-EB', '1-3-NB', '1-3-NE', '1-3-SB', '1-3-SW', '1-3-WB', '2-0-EB', '2-0-NB', '2-0-SB', '2-0-WB', '2-1-EB', '2-1-NB', '2-1-NE', '2-1-NW', '2-1-SB', '2-1-SE', '2-1-SW', '2-1-WB', '2-2-EB', '2-2-NB', '2-2-NE', '2-2-NW', '2-2-SB', '2-2-SE', '2-2-SW', '2-2-WB', '2-3-EB', '2-3-NB', '2-3-NE', '2-3-SB', '2-3-SW', '2-3-WB', 'saturday', 'sunday', 'daytime', 'dayofyear']\n"
          ]
        }
      ]
    },
    {
      "cell_type": "code",
      "source": [
        "\n",
        "from sklearn.metrics import mean_absolute_error\n",
        "\n",
        "from sklearn.ensemble import ExtraTreesRegressor\n",
        "# Split into train and test\n",
        "# Use all Monday-Wednesday afternoons in August and September for validation\n",
        "val_idx = ((trainCopy.time.dt.month >= 8) & \n",
        "           (trainCopy.time.dt.weekday <= 3) &\n",
        "           (trainCopy.time.dt.hour >= 12)).values\n",
        "train_idx = ~val_idx\n",
        "\n",
        "X_tr, X_va = train.loc[train_idx, features], train.loc[val_idx, features]\n",
        "y_tr, y_va = train.loc[train_idx, 'congestion'], train.loc[val_idx, 'congestion']\n",
        "\n",
        "# Train and validate the regressor\n",
        "#pipe = make_pipeline(StandardScaler(), HuberRegressor(epsilon=1.001, alpha=100))\n",
        "# pipe = RandomForestRegressor(n_estimators=0, max_samples=0.03,\n",
        "#                             n_jobs=-1, random_state=1)\n",
        "pipe = ExtraTreesRegressor(n_estimators=0,\n",
        "                           #bootstrap=True, max_samples=0.20,\n",
        "                           min_samples_split=101,\n",
        "                           n_jobs=-1, random_state=1)\n",
        "estimators_list, mae_list = [], []\n",
        "n_estimators = 4\n",
        "initialized = False\n",
        "while n_estimators < 256:\n",
        "    n_estimators *= 4\n",
        "    pipe.set_params(n_estimators=n_estimators,\n",
        "                    warm_start=initialized)\n",
        "    pipe.fit(X_tr, y_tr)\n",
        "    initialized = True\n",
        "\n",
        "    # Compute the (intermediate) validation score\n",
        "    y_va_pred = pipe.predict(X_va)\n",
        "    \n",
        "    estimators_list.append(pipe.get_params()['n_estimators'])\n",
        "    mae_list.append(mean_absolute_error(y_va, y_va_pred))\n",
        "    print(f\"{estimators_list[-1]:4} estimators:   \"\n",
        "          f\"Validation MAE = {mae_list[-1]:.5f}\")"
      ],
      "metadata": {
        "id": "73UyO-ABG5PC"
      },
      "execution_count": null,
      "outputs": []
    },
    {
      "cell_type": "markdown",
      "source": [
        "Loss : 5.7"
      ],
      "metadata": {
        "id": "Z_yVfy-WOiuT"
      }
    }
  ]
}