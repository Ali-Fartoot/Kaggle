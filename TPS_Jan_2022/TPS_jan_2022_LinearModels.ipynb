{
  "nbformat": 4,
  "nbformat_minor": 0,
  "metadata": {
    "colab": {
      "name": "TPS_jan_2022_LinearModels.ipynb",
      "provenance": [],
      "collapsed_sections": [
        "iOQbs77E02Tb"
      ],
      "mount_file_id": "1nSWBUpeSEWqMk_22ENsh615bGmPPI6uF",
      "authorship_tag": "ABX9TyP/5JEpQcJ50taGoHsQ4X9l",
      "include_colab_link": true
    },
    "kernelspec": {
      "name": "python3",
      "display_name": "Python 3"
    },
    "language_info": {
      "name": "python"
    }
  },
  "cells": [
    {
      "cell_type": "markdown",
      "metadata": {
        "id": "view-in-github",
        "colab_type": "text"
      },
      "source": [
        "<a href=\"https://colab.research.google.com/github/Ali-Fartout/Kaggle/blob/main/TPS_Jan_2022/TPS_jan_2022_LinearModels.ipynb\" target=\"_parent\"><img src=\"https://colab.research.google.com/assets/colab-badge.svg\" alt=\"Open In Colab\"/></a>"
      ]
    },
    {
      "cell_type": "markdown",
      "source": [
        "# Requierment"
      ],
      "metadata": {
        "id": "iOQbs77E02Tb"
      }
    },
    {
      "cell_type": "code",
      "source": [
        "! mkdir ~/.kaggle\n",
        "!cp /content/drive/MyDrive/kaggle.json ~/.kaggle/kaggle.json\n",
        "! chmod 600 ~/.kaggle/kaggle.json\n",
        "! kaggle competitions download -c tabular-playground-series-jan-2022"
      ],
      "metadata": {
        "id": "VexOkLS8012Y"
      },
      "execution_count": null,
      "outputs": []
    },
    {
      "cell_type": "code",
      "execution_count": null,
      "metadata": {
        "id": "Lh6XgzUG0rwU"
      },
      "outputs": [],
      "source": [
        "import zipfile\n",
        "\n",
        "zipfile = zipfile.ZipFile('/content/tabular-playground-series-jan-2022.zip','r')\n",
        "zipfile.extractall()\n",
        "zipfile.close()"
      ]
    },
    {
      "cell_type": "code",
      "source": [
        "import pandas as pd\n",
        "import numpy as np\n",
        "\n",
        "train = pd.read_csv('/content/train.csv',parse_dates=['date'])\n",
        "test = pd.read_csv('/content/test.csv',parse_dates=['date'])\n",
        "sub = pd.read_csv('/content/sample_submission.csv')"
      ],
      "metadata": {
        "id": "m-PKsH6e09BR"
      },
      "execution_count": null,
      "outputs": []
    },
    {
      "cell_type": "markdown",
      "source": [
        "# Feature engineering"
      ],
      "metadata": {
        "id": "F-ty0tA31FBF"
      }
    },
    {
      "cell_type": "code",
      "source": [
        "def OneHotEncoder(data,cols):\n",
        "    for col in cols:\n",
        "        col_ohe = pd.get_dummies(data[col], prefix=col)\n",
        "        data = pd.concat((data, col_ohe), axis=1).drop(col, axis=1)\n",
        "\n",
        "    # data['year'] = data.date.dt.year\n",
        "    data['day'] = data.date.dt.day\n",
        "    data['month'] = data.date.dt.month\n",
        "    data['saturday'] = (data.date.dt.weekday == 5).astype(int)\n",
        "    data['sunday'] = (data.date.dt.weekday == 6).astype(int)\n",
        "    # data['endofmonth'] = (data.date.dt.day < 19  ).astype(int)\n",
        "    data['endofyear'] = ((data.date.dt.month == 12) & (data.date.dt.day > 23 )).astype(int) \n",
        "    return data\n",
        "\n",
        "\n",
        "train = OneHotEncoder(train,['product','store','country'])\n",
        "test = OneHotEncoder(test,['product','store','country'])"
      ],
      "metadata": {
        "id": "4_Xi5Jy41Eww"
      },
      "execution_count": null,
      "outputs": []
    },
    {
      "cell_type": "code",
      "source": [
        "y = train.pop('num_sold')\n",
        "yTrain = pd.DataFrame(y,columns=['num_sold'])\n",
        "xTrain = train.drop(columns=['date','row_id'])\n",
        "xTest = test.drop(columns=['date','row_id'])"
      ],
      "metadata": {
        "id": "cVbxdDG21Dhh"
      },
      "execution_count": null,
      "outputs": []
    },
    {
      "cell_type": "markdown",
      "source": [
        "# Model"
      ],
      "metadata": {
        "id": "O7cvppe71bv9"
      }
    },
    {
      "cell_type": "markdown",
      "source": [
        "## KNN"
      ],
      "metadata": {
        "id": "-zm5b4_F1dsn"
      }
    },
    {
      "cell_type": "code",
      "source": [
        "from sklearn.neighbors import KNeighborsRegressor\n",
        "knn_reg = KNeighborsRegressor(n_neighbors=7)\n",
        "knn_reg.fit(xTrain,yTrain)\n",
        "pred = knn_reg.predict(xTest)"
      ],
      "metadata": {
        "id": "FUd9QXvG1ZUm"
      },
      "execution_count": null,
      "outputs": []
    },
    {
      "cell_type": "code",
      "source": [
        "sub = pd.DataFrame()\n",
        "sub['row_id'] = test['row_id']\n",
        "sub['num_sold'] = pred\n",
        "sub.to_csv('KNN.csv',index=False )"
      ],
      "metadata": {
        "id": "LQwiVLo92anu"
      },
      "execution_count": null,
      "outputs": []
    },
    {
      "cell_type": "code",
      "source": [
        "!kaggle competitions submit  -c tabular-playground-series-jan-2022 -f /content/KNN.csv -m \"KNN\"\n",
        "!kaggle competitions submissions  -c tabular-playground-series-jan-2022"
      ],
      "metadata": {
        "colab": {
          "base_uri": "https://localhost:8080/"
        },
        "id": "DmOj45uM2hFL",
        "outputId": "5cf55404-2758-46af-e224-911b5c835c88"
      },
      "execution_count": null,
      "outputs": [
        {
          "output_type": "stream",
          "name": "stdout",
          "text": [
            "100% 146k/146k [00:03<00:00, 38.9kB/s]\n",
            "Successfully submitted to Tabular Playground Series - Jan 2022fileName            date                 description     status    publicScore  privateScore  \n",
            "------------------  -------------------  --------------  --------  -----------  ------------  \n",
            "KNN.csv             2022-03-15 09:40:17  KNN             complete  9.52083      9.77204       \n",
            "KNN.csv             2022-03-15 09:34:23  KNN             complete  9.52083      9.77204       \n",
            "SVM.csv             2022-03-15 09:25:40  SVM             complete  47.34849     41.88867      \n",
            "KNN.csv             2022-03-15 09:23:10  KNN             complete  9.52083      9.77204       \n",
            "KNN.csv             2022-03-15 09:22:58  KNN             complete  9.83408      10.09789      \n",
            "KNN.csv             2022-03-15 09:22:46  KNN             complete  9.65663      9.93692       \n",
            "KNN.csv             2022-03-15 09:22:27  KNN             complete  9.33924      9.85648       \n",
            "KNN.csv             2022-03-15 09:22:15  KNN             complete  11.45877     12.24913      \n",
            "KNN.csv             2022-03-15 09:21:53  KNN             complete  10.60845     11.28768      \n",
            "KNN.csv             2022-03-15 09:17:30  KNN             complete  8.41949      10.48033      \n",
            "KNN.csv             2022-03-15 09:16:29  KNN             complete  18.97005     17.69892      \n",
            "KNN.csv             2022-03-15 09:16:19  KNN             complete  18.97005     17.69892      \n",
            "KNN.csv             2022-03-15 09:15:58  KNN             complete  19.00229     17.88222      \n",
            "KNN.csv             2022-03-15 09:15:13  KNN             complete  18.97005     17.69892      \n",
            "KNN.csv             2022-03-15 09:14:55  KNN             complete  8.59316      10.90651      \n",
            "KNN.csv             2022-03-15 09:14:40  KNN             complete  11.28478     11.91717      \n",
            "KNN.csv             2022-03-15 09:13:39  KNN             complete  10.32112     10.93064      \n",
            "KNN.csv             2022-03-15 09:13:21  KNN             complete  17.66507     16.25778      \n",
            "stacking.csv        2022-03-14 13:04:16  stacking        complete  5.73633      6.95610       \n",
            "XGB.csv             2022-03-14 13:02:12  XGB             complete  5.90805      6.98849       \n",
            "LightGBM.csv        2022-03-14 13:02:02  LightGBM        complete  5.83712      7.14957       \n",
            "catboost.csv        2022-03-14 13:01:56  Catboost        complete  6.02400      7.13826       \n",
            "RandomForest.csv    2022-03-14 13:01:46  RandomForest    complete  5.90648      7.10492       \n",
            "RandomForest.csv    2022-03-14 13:01:36  RandomForest    complete  7.29935      9.67003       \n",
            "DecisionTreeFS.csv  2022-03-14 13:01:25  DecisionTreeFS  complete  10.88245     12.59147      \n",
            "XGB.csv             2022-03-14 12:45:05  XGB             complete  5.90805      6.98849       \n",
            "XGB.csv             2022-03-14 12:44:06  XGB             complete  5.90805      6.98849       \n",
            "XGB.csv             2022-03-14 12:41:45  XGB             complete  5.90805      6.98849       \n",
            "XGB.csv             2022-03-14 12:41:13  XGB             complete  5.90805      6.98849       \n",
            "XGB.csv             2022-03-14 12:40:36  XGB             complete  5.90805      6.98849       \n",
            "XGB.csv             2022-03-14 12:37:56  XGB             complete  5.90805      6.98849       \n",
            "XGB.csv             2022-03-14 12:32:37  XGB             complete  5.90805      6.98849       \n",
            "XGB.csv             2022-03-14 12:32:13  XGB             complete  5.90805      6.98849       \n",
            "XGB.csv             2022-03-14 12:27:58  XGB             complete  5.90805      6.98849       \n",
            "XGB.csv             2022-03-14 12:27:29  XGB             complete  5.93109      7.20901       \n",
            "XGB.csv             2022-03-14 12:27:07  XGB             complete  5.86010      7.02788       \n",
            "XGB.csv             2022-03-14 12:26:43  XGB             complete  5.88808      7.02804       \n",
            "XGB.csv             2022-03-14 12:26:14  XGB             complete  6.08593      7.03151       \n",
            "XGB.csv             2022-03-14 12:25:26  XGB             complete  5.99092      6.99602       \n",
            "XGB.csv             2022-03-14 12:25:07  XGB             complete  5.96195      6.99443       \n",
            "XGB.csv             2022-03-14 12:23:20  XGB             complete  6.01125      7.20294       \n",
            "XGB.csv             2022-03-14 12:23:01  XGB             complete  5.92901      6.98240       \n",
            "XGB.csv             2022-03-14 12:21:02  XGB             complete  5.99092      6.99602       \n",
            "XGB.csv             2022-03-14 12:20:37  XGB             complete  6.18910      7.16150       \n",
            "XGB.csv             2022-03-14 12:20:18  XGB             complete  6.21604      7.24060       \n",
            "XGB.csv             2022-03-14 12:19:55  XGB             complete  6.40144      7.34809       \n",
            "XGB.csv             2022-03-14 12:19:34  XGB             complete  6.62301      7.58323       \n",
            "XGB.csv             2022-03-14 12:19:06  XGB             complete  6.16426      7.17887       \n",
            "XGB.csv             2022-03-14 12:18:28  XGB             complete  7.49723      7.86652       \n",
            "LightGBM.csv        2022-03-14 12:10:51  LightGBM        complete  5.83712      7.14957       \n"
          ]
        }
      ]
    },
    {
      "cell_type": "markdown",
      "source": [
        "## SVM"
      ],
      "metadata": {
        "id": "WRfmAdR03ud7"
      }
    },
    {
      "cell_type": "code",
      "source": [
        "from sklearn import svm\n",
        "svm_reg = svm.SVR()\n",
        "\n",
        "from sklearn.model_selection import GridSearchCV\n",
        " \n",
        "# defining parameter range\n",
        "param_grid = {'C': [0.1, 10, 100], 'gamma': [0.1,0.01,0.001],'kernel': ['rbf','sigmoid']}\n",
        " \n",
        "grid = GridSearchCV(svm_reg, param_grid, refit = True, verbose = 2)\n",
        " \n",
        "# fitting the model for grid search\n",
        "grid.fit(xTrain, yTrain.values.ravel())\n",
        "\n",
        "print(grid.best_estimator,grid.best_params_)"
      ],
      "metadata": {
        "id": "v7WHwX4e2jju"
      },
      "execution_count": null,
      "outputs": []
    },
    {
      "cell_type": "code",
      "source": [
        "sub = pd.DataFrame()\n",
        "sub['row_id'] = test['row_id']\n",
        "sub['num_sold'] = pred\n",
        "sub.to_csv('SVM.csv',index=False )"
      ],
      "metadata": {
        "id": "FHXxYvuS4J2c"
      },
      "execution_count": null,
      "outputs": []
    },
    {
      "cell_type": "code",
      "source": [
        "!kaggle competitions submit  -c tabular-playground-series-jan-2022 -f /content/SVM.csv -m \"SVM\"\n",
        "!kaggle competitions submissions  -c tabular-playground-series-jan-2022"
      ],
      "metadata": {
        "id": "Ab9YHdCt44XR"
      },
      "execution_count": null,
      "outputs": []
    },
    {
      "cell_type": "code",
      "source": [
        ""
      ],
      "metadata": {
        "id": "pp7DdPFW5IRI"
      },
      "execution_count": null,
      "outputs": []
    }
  ]
}