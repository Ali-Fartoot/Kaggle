{
  "nbformat": 4,
  "nbformat_minor": 0,
  "metadata": {
    "colab": {
      "name": "DogsVs CatsEDA.ipynb",
      "provenance": [],
      "collapsed_sections": [],
      "mount_file_id": "1DXblngpFltbDduOciVRLRAgZsFjUGnM-",
      "authorship_tag": "ABX9TyPGNLxFDe3Qhs+1Tk0CFmEg",
      "include_colab_link": true
    },
    "kernelspec": {
      "name": "python3",
      "display_name": "Python 3"
    },
    "language_info": {
      "name": "python"
    }
  },
  "cells": [
    {
      "cell_type": "markdown",
      "metadata": {
        "id": "view-in-github",
        "colab_type": "text"
      },
      "source": [
        "<a href=\"https://colab.research.google.com/github/Ali-Fartout/Kaggle/blob/main/Cats%26Dogs/Dogs_Vs_Cats_EDA.ipynb\" target=\"_parent\"><img src=\"https://colab.research.google.com/assets/colab-badge.svg\" alt=\"Open In Colab\"/></a>"
      ]
    },
    {
      "cell_type": "markdown",
      "source": [
        "# Requirement"
      ],
      "metadata": {
        "id": "_-T7GqLs69B1"
      }
    },
    {
      "cell_type": "code",
      "source": [
        "!pip install kaggle"
      ],
      "metadata": {
        "colab": {
          "base_uri": "https://localhost:8080/"
        },
        "id": "SvDOykvtx9Ak",
        "outputId": "1067d721-5514-4f51-e9ca-1f46c9d8e52e"
      },
      "execution_count": 1,
      "outputs": [
        {
          "output_type": "stream",
          "name": "stdout",
          "text": [
            "Looking in indexes: https://pypi.org/simple, https://us-python.pkg.dev/colab-wheels/public/simple/\n",
            "Requirement already satisfied: kaggle in /usr/local/lib/python3.7/dist-packages (1.5.12)\n",
            "Requirement already satisfied: requests in /usr/local/lib/python3.7/dist-packages (from kaggle) (2.23.0)\n",
            "Requirement already satisfied: python-dateutil in /usr/local/lib/python3.7/dist-packages (from kaggle) (2.8.2)\n",
            "Requirement already satisfied: tqdm in /usr/local/lib/python3.7/dist-packages (from kaggle) (4.64.0)\n",
            "Requirement already satisfied: urllib3 in /usr/local/lib/python3.7/dist-packages (from kaggle) (1.24.3)\n",
            "Requirement already satisfied: certifi in /usr/local/lib/python3.7/dist-packages (from kaggle) (2022.5.18.1)\n",
            "Requirement already satisfied: python-slugify in /usr/local/lib/python3.7/dist-packages (from kaggle) (6.1.2)\n",
            "Requirement already satisfied: six>=1.10 in /usr/local/lib/python3.7/dist-packages (from kaggle) (1.15.0)\n",
            "Requirement already satisfied: text-unidecode>=1.3 in /usr/local/lib/python3.7/dist-packages (from python-slugify->kaggle) (1.3)\n",
            "Requirement already satisfied: idna<3,>=2.5 in /usr/local/lib/python3.7/dist-packages (from requests->kaggle) (2.10)\n",
            "Requirement already satisfied: chardet<4,>=3.0.2 in /usr/local/lib/python3.7/dist-packages (from requests->kaggle) (3.0.4)\n"
          ]
        }
      ]
    },
    {
      "cell_type": "code",
      "execution_count": 2,
      "metadata": {
        "id": "FmJi5_WfxjTn"
      },
      "outputs": [],
      "source": [
        "import pandas as pd\n",
        "import numpy as np"
      ]
    },
    {
      "cell_type": "code",
      "source": [
        "import os\n",
        "os.environ['KAGGLE_USERNAME'] = 'alifartoot'\n",
        "os.environ['KAGGLE_KEY'] = '5fbc47c57023793cc2545b168bcd6a66'"
      ],
      "metadata": {
        "id": "HpqKxth635dn"
      },
      "execution_count": 3,
      "outputs": []
    },
    {
      "cell_type": "code",
      "source": [
        "! chmod 600 /content/drive/MyDrive/kaggle.json\n",
        "! kaggle competitions download -c dogs-vs-cats"
      ],
      "metadata": {
        "colab": {
          "base_uri": "https://localhost:8080/"
        },
        "id": "-FxGonQCyKPp",
        "outputId": "29e3577a-9cca-4dca-d207-2e2b97727a8b"
      },
      "execution_count": 4,
      "outputs": [
        {
          "output_type": "stream",
          "name": "stdout",
          "text": [
            "Downloading dogs-vs-cats.zip to /content\n",
            "100% 810M/812M [00:03<00:00, 253MB/s]\n",
            "100% 812M/812M [00:03<00:00, 221MB/s]\n"
          ]
        }
      ]
    },
    {
      "cell_type": "code",
      "source": [
        "import zipfile\n",
        "zip_ref = zipfile.ZipFile(\"/content/dogs-vs-cats.zip\", \"r\")\n",
        "zip_ref.extractall()\n",
        "zip_ref.close()\n",
        "zip_ref = zipfile.ZipFile(\"/content/test1.zip\", \"r\")\n",
        "zip_ref.extractall()\n",
        "zip_ref.close()\n",
        "zip_ref = zipfile.ZipFile(\"/content/train.zip\", \"r\")\n",
        "zip_ref.extractall()\n",
        "zip_ref.close()"
      ],
      "metadata": {
        "id": "Eipevu6F0lyj"
      },
      "execution_count": 5,
      "outputs": []
    },
    {
      "cell_type": "markdown",
      "source": [
        "# Explore data (pictures)"
      ],
      "metadata": {
        "id": "NE9qy4T1_6TX"
      }
    },
    {
      "cell_type": "code",
      "source": [
        "! ls /content/train -l | awk -F ' ' '/dog*/ {count++}END{print count}'\n",
        "! ls /content/train -l | awk -F ' ' '/cat*/ {count++}END{print count}'"
      ],
      "metadata": {
        "colab": {
          "base_uri": "https://localhost:8080/"
        },
        "id": "GnGJQNQf7E3i",
        "outputId": "e37cf855-3fd3-439b-f5f1-5c0613dbf4dd"
      },
      "execution_count": 6,
      "outputs": [
        {
          "output_type": "stream",
          "name": "stdout",
          "text": [
            "12500\n",
            "12500\n"
          ]
        }
      ]
    },
    {
      "cell_type": "code",
      "source": [
        "import cv2 as cv\n",
        "import random\n",
        "from google.colab.patches import cv2_imshow\n",
        "from google.colab import output\n",
        "from time import sleep\n",
        "import os\n",
        "\n",
        "# function for show images\n",
        "def OpenAndShowDogs(Address):\n",
        "  rnd = random.randint(0,12500)\n",
        "  image = cv.imread(Address + f\"dog.{rnd}.jpg\")\n",
        "  print(\"Dog \",image.shape)\n",
        "  cv2_imshow(image)\n",
        "  cv.waitKey(0)\n",
        "  \n",
        "for i in range(0,20):\n",
        "  OpenAndShowDogs(\"/content/train/\")\n",
        "  sleep(5)\n",
        "  output.clear()"
      ],
      "metadata": {
        "id": "KdpD2k1p7beC"
      },
      "execution_count": 7,
      "outputs": []
    },
    {
      "cell_type": "code",
      "source": [
        "def OpenAndShowCat(Address):\n",
        "  rnd = random.randint(0,12500)\n",
        "  image = cv.imread(Address + f\"cat.{rnd}.jpg\")\n",
        "  print(\"Cat \",image.shape)\n",
        "  cv2_imshow(image)\n",
        "  cv.waitKey(0)\n",
        "\n",
        "for i in range(0,20):\n",
        "  OpenAndShowCat(\"/content/train/\")\n",
        "  sleep(5)\n",
        "  output.clear()"
      ],
      "metadata": {
        "id": "WJh01yDJ_RCY"
      },
      "execution_count": 8,
      "outputs": []
    },
    {
      "cell_type": "code",
      "source": [
        "# count max and min of cats & dogs shape\n",
        "Address = '/content/train/'\n",
        "XDogs, YDogs, XCats, YCats = [], [] , [] , []\n",
        "for itr in range (12500):\n",
        "  image = cv.imread(Address + f\"dog.{itr}.jpg\")\n",
        "  XDogs.append(image.shape[0])\n",
        "  YDogs.append(image.shape[1])\n",
        "  image = cv.imread(Address + f\"cat.{itr}.jpg\")\n",
        "  XCats.append(image.shape[0])\n",
        "  YCats.append(image.shape[1])\n",
        "\n",
        "print(f\"Dogs X max : {max(XDogs, default=0)} min : {min(XDogs, default=0)}, Y max : {max(YDogs, default=0)} min : {min(YDogs, default=0)} \")\n",
        "print(f\"Cat X max : {max(XCats, default=0)} min : {min(XCats, default=0)}, Y max : {max(YCats, default=0)} min : {min(YCats, default=0)} \")"
      ],
      "metadata": {
        "colab": {
          "base_uri": "https://localhost:8080/"
        },
        "id": "FFW8iWOtB8Ut",
        "outputId": "9f900007-8f55-43c6-9dae-09b3622b80a2"
      },
      "execution_count": 9,
      "outputs": [
        {
          "output_type": "stream",
          "name": "stdout",
          "text": [
            "Dogs X max : 702 min : 33, Y max : 1050 min : 42 \n",
            "Cat X max : 768 min : 32, Y max : 1023 min : 50 \n"
          ]
        }
      ]
    },
    {
      "cell_type": "code",
      "source": [
        "! mkdir dog\n",
        "! mkdir cat\n",
        "!find ./train  -name \"dog*\" -exec cp {} /content/dog \\;\n",
        "!find ./train  -name \"cat*\" -exec cp {} /content/cat \\;"
      ],
      "metadata": {
        "id": "899EEWk-GcZk"
      },
      "execution_count": 10,
      "outputs": []
    },
    {
      "cell_type": "code",
      "source": [
        "! ls /content/dog -l | awk -F ' ' '/dog*/ {count++}END{print count}'\n",
        "! ls /content/cat -l | awk -F ' ' '/cat*/ {count++}END{print count}'"
      ],
      "metadata": {
        "colab": {
          "base_uri": "https://localhost:8080/"
        },
        "id": "nCzmI6l_Rr2V",
        "outputId": "92316289-0c51-4cc0-f19c-28268cf3dd97"
      },
      "execution_count": 11,
      "outputs": [
        {
          "output_type": "stream",
          "name": "stdout",
          "text": [
            "12500\n",
            "12500\n"
          ]
        }
      ]
    },
    {
      "cell_type": "markdown",
      "source": [
        "# Data Preprocessing"
      ],
      "metadata": {
        "id": "LlXfK-gMSXtx"
      }
    },
    {
      "cell_type": "code",
      "source": [
        "CLASS_DIR = ['/content/cat/','/content/dog/']\n",
        "XSize = 255\n",
        "YSize = 255"
      ],
      "metadata": {
        "id": "oREFmLMnSWGh"
      },
      "execution_count": 12,
      "outputs": []
    },
    {
      "cell_type": "code",
      "source": [
        "dog = []\n",
        "cat = []\n",
        "for cls in CLASS_DIR:\n",
        "  if(cls == '/content/cat/' ):\n",
        "    for itr in range(12500):\n",
        "        image = cv.imread(cls + f\"cat.{itr}.jpg\")\n",
        "        dog.append(image)\n",
        "  if(cls == '/content/dog/' ):\n",
        "    for itr in range(12500):\n",
        "        image = cv.imread(cls + f\"dog.{itr}.jpg\")\n",
        "        cat.append(image)\n",
        "data = {\"Dog\" : dog,\"Cat\": cat}\n",
        "train_data = pd.DataFrame(data=data)"
      ],
      "metadata": {
        "id": "rYC_KJ7HUIMj"
      },
      "execution_count": 13,
      "outputs": []
    },
    {
      "cell_type": "code",
      "source": [
        "%cd /content/drive/MyDrive\n",
        "train_data.to_csv(\"trainDC.csv\")"
      ],
      "metadata": {
        "colab": {
          "base_uri": "https://localhost:8080/"
        },
        "id": "JELYOoN1XleA",
        "outputId": "f939217d-8afe-4687-e1eb-91cd4f057e6e"
      },
      "execution_count": 14,
      "outputs": [
        {
          "output_type": "stream",
          "name": "stdout",
          "text": [
            "/content/drive/MyDrive\n"
          ]
        }
      ]
    }
  ]
}