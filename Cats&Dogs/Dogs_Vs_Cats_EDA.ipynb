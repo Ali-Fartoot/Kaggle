{
  "nbformat": 4,
  "nbformat_minor": 0,
  "metadata": {
    "colab": {
      "name": "Dogs Vs Cats EDA.ipynb",
      "provenance": [],
      "collapsed_sections": [],
      "mount_file_id": "1DXblngpFltbDduOciVRLRAgZsFjUGnM-",
      "authorship_tag": "ABX9TyNvbnMFvGayovdWbB95dqtw",
      "include_colab_link": true
    },
    "kernelspec": {
      "name": "python3",
      "display_name": "Python 3"
    },
    "language_info": {
      "name": "python"
    }
  },
  "cells": [
    {
      "cell_type": "markdown",
      "metadata": {
        "id": "view-in-github",
        "colab_type": "text"
      },
      "source": [
        "<a href=\"https://colab.research.google.com/github/Ali-Fartout/Kaggle/blob/main/Cats%26Dogs/Dogs_Vs_Cats_EDA.ipynb\" target=\"_parent\"><img src=\"https://colab.research.google.com/assets/colab-badge.svg\" alt=\"Open In Colab\"/></a>"
      ]
    },
    {
      "cell_type": "markdown",
      "source": [
        "# Requirement"
      ],
      "metadata": {
        "id": "_-T7GqLs69B1"
      }
    },
    {
      "cell_type": "code",
      "source": [
        "!pip install kaggle"
      ],
      "metadata": {
        "colab": {
          "base_uri": "https://localhost:8080/"
        },
        "id": "SvDOykvtx9Ak",
        "outputId": "37b59053-ede7-4374-8caa-efa567d5e7c4"
      },
      "execution_count": 31,
      "outputs": [
        {
          "output_type": "stream",
          "name": "stdout",
          "text": [
            "Looking in indexes: https://pypi.org/simple, https://us-python.pkg.dev/colab-wheels/public/simple/\n",
            "Requirement already satisfied: kaggle in /usr/local/lib/python3.7/dist-packages (1.5.12)\n",
            "Requirement already satisfied: certifi in /usr/local/lib/python3.7/dist-packages (from kaggle) (2022.6.15)\n",
            "Requirement already satisfied: urllib3 in /usr/local/lib/python3.7/dist-packages (from kaggle) (1.24.3)\n",
            "Requirement already satisfied: six>=1.10 in /usr/local/lib/python3.7/dist-packages (from kaggle) (1.15.0)\n",
            "Requirement already satisfied: requests in /usr/local/lib/python3.7/dist-packages (from kaggle) (2.23.0)\n",
            "Requirement already satisfied: python-dateutil in /usr/local/lib/python3.7/dist-packages (from kaggle) (2.8.2)\n",
            "Requirement already satisfied: tqdm in /usr/local/lib/python3.7/dist-packages (from kaggle) (4.64.0)\n",
            "Requirement already satisfied: python-slugify in /usr/local/lib/python3.7/dist-packages (from kaggle) (6.1.2)\n",
            "Requirement already satisfied: text-unidecode>=1.3 in /usr/local/lib/python3.7/dist-packages (from python-slugify->kaggle) (1.3)\n",
            "Requirement already satisfied: idna<3,>=2.5 in /usr/local/lib/python3.7/dist-packages (from requests->kaggle) (2.10)\n",
            "Requirement already satisfied: chardet<4,>=3.0.2 in /usr/local/lib/python3.7/dist-packages (from requests->kaggle) (3.0.4)\n"
          ]
        }
      ]
    },
    {
      "cell_type": "code",
      "execution_count": 32,
      "metadata": {
        "id": "FmJi5_WfxjTn"
      },
      "outputs": [],
      "source": [
        "import pandas as pd\n",
        "import numpy as np"
      ]
    },
    {
      "cell_type": "code",
      "source": [
        "import os\n",
        "os.environ['KAGGLE_USERNAME'] = 'alifartoot'\n",
        "os.environ['KAGGLE_KEY'] = '4dfbf8cc0c7352f67c6cbe0c6459ac36'"
      ],
      "metadata": {
        "id": "HpqKxth635dn"
      },
      "execution_count": 33,
      "outputs": []
    },
    {
      "cell_type": "code",
      "source": [
        "! chmod 600 /content/drive/MyDrive/kaggle.json\n",
        "! kaggle competitions download -c dogs-vs-cats"
      ],
      "metadata": {
        "colab": {
          "base_uri": "https://localhost:8080/"
        },
        "id": "-FxGonQCyKPp",
        "outputId": "d370acd8-4d32-49d6-9502-fba5d17503eb"
      },
      "execution_count": 34,
      "outputs": [
        {
          "output_type": "stream",
          "name": "stdout",
          "text": [
            "dogs-vs-cats.zip: Skipping, found more recently modified local copy (use --force to force download)\n"
          ]
        }
      ]
    },
    {
      "cell_type": "code",
      "source": [
        "import zipfile\n",
        "zip_ref = zipfile.ZipFile(\"/content/dogs-vs-cats.zip\", \"r\")\n",
        "zip_ref.extractall()\n",
        "zip_ref.close()\n",
        "zip_ref = zipfile.ZipFile(\"/content/test1.zip\", \"r\")\n",
        "zip_ref.extractall()\n",
        "zip_ref.close()\n",
        "zip_ref = zipfile.ZipFile(\"/content/train.zip\", \"r\")\n",
        "zip_ref.extractall()\n",
        "zip_ref.close()"
      ],
      "metadata": {
        "id": "Eipevu6F0lyj"
      },
      "execution_count": 35,
      "outputs": []
    },
    {
      "cell_type": "markdown",
      "source": [
        "# Explore data (pictures)"
      ],
      "metadata": {
        "id": "NE9qy4T1_6TX"
      }
    },
    {
      "cell_type": "code",
      "source": [
        "! ls /content/train -l | awk -F ' ' '/dog*/ {count++}END{print count}'\n",
        "! ls /content/train -l | awk -F ' ' '/cat*/ {count++}END{print count}'"
      ],
      "metadata": {
        "colab": {
          "base_uri": "https://localhost:8080/"
        },
        "id": "GnGJQNQf7E3i",
        "outputId": "421e8c58-7fde-4156-bba4-5cfbebd265b2"
      },
      "execution_count": 36,
      "outputs": [
        {
          "output_type": "stream",
          "name": "stdout",
          "text": [
            "12500\n",
            "12500\n"
          ]
        }
      ]
    },
    {
      "cell_type": "code",
      "source": [
        "import cv2 as cv\n",
        "import random\n",
        "from google.colab.patches import cv2_imshow\n",
        "from google.colab import output\n",
        "from time import sleep\n",
        "import os\n",
        "import PIL\n",
        "# function for show images\n",
        "def OpenAndShowDogs(Address):\n",
        "  rnd = random.randint(0,12500)\n",
        "  image = cv.imread(Address + f\"dog.{rnd}.jpg\")\n",
        "  print(\"Dog \",image.shape)\n",
        "  cv2_imshow(image)\n",
        "  cv.waitKey(0)\n",
        "  \n",
        "for i in range(0,2):\n",
        "  OpenAndShowDogs(\"/content/train/\")\n",
        "  sleep(5)\n",
        "  output.clear()"
      ],
      "metadata": {
        "id": "KdpD2k1p7beC"
      },
      "execution_count": 37,
      "outputs": []
    },
    {
      "cell_type": "code",
      "source": [
        "def OpenAndShowCat(Address):\n",
        "  rnd = random.randint(0,12500)\n",
        "  image = cv.imread(Address + f\"cat.{rnd}.jpg\")\n",
        "  print(\"Cat \",image.shape)\n",
        "  cv2_imshow(image)\n",
        "  cv.waitKey(0)\n",
        "\n",
        "for i in range(0,2):\n",
        "  OpenAndShowCat(\"/content/train/\")\n",
        "  sleep(5)\n",
        "  output.clear()"
      ],
      "metadata": {
        "id": "WJh01yDJ_RCY"
      },
      "execution_count": 38,
      "outputs": []
    },
    {
      "cell_type": "code",
      "source": [
        "# count max and min of cats & dogs shape\n",
        "Address = '/content/train/'\n",
        "XDogs, YDogs, XCats, YCats = [], [] , [] , []\n",
        "for itr in range (12500):\n",
        "  image = cv.imread(Address + f\"dog.{itr}.jpg\")\n",
        "  XDogs.append(image.shape[0])\n",
        "  YDogs.append(image.shape[1])\n",
        "  image = cv.imread(Address + f\"cat.{itr}.jpg\")\n",
        "  XCats.append(image.shape[0])\n",
        "  YCats.append(image.shape[1])\n",
        "\n",
        "print(f\"Dogs X max : {max(XDogs, default=0)} min : {min(XDogs, default=0)}, Y max : {max(YDogs, default=0)} min : {min(YDogs, default=0)} \")\n",
        "print(f\"Cat X max : {max(XCats, default=0)} min : {min(XCats, default=0)}, Y max : {max(YCats, default=0)} min : {min(YCats, default=0)} \")"
      ],
      "metadata": {
        "colab": {
          "base_uri": "https://localhost:8080/"
        },
        "id": "FFW8iWOtB8Ut",
        "outputId": "0f3d965a-19c6-47a3-d5e1-fa1f6298db26"
      },
      "execution_count": 39,
      "outputs": [
        {
          "output_type": "stream",
          "name": "stdout",
          "text": [
            "Dogs X max : 702 min : 33, Y max : 1050 min : 42 \n",
            "Cat X max : 768 min : 32, Y max : 1023 min : 50 \n"
          ]
        }
      ]
    },
    {
      "cell_type": "code",
      "source": [
        "! mkdir dog\n",
        "! mkdir cat\n",
        "!find ./train  -name \"dog*\" -exec cp {} /content/dog \\;\n",
        "!find ./train  -name \"cat*\" -exec cp {} /content/cat \\;"
      ],
      "metadata": {
        "id": "899EEWk-GcZk",
        "colab": {
          "base_uri": "https://localhost:8080/"
        },
        "outputId": "0aa968ac-4e3c-4805-a483-825db567d3e2"
      },
      "execution_count": 40,
      "outputs": [
        {
          "output_type": "stream",
          "name": "stdout",
          "text": [
            "mkdir: cannot create directory ‘dog’: File exists\n",
            "mkdir: cannot create directory ‘cat’: File exists\n"
          ]
        }
      ]
    },
    {
      "cell_type": "code",
      "source": [
        "! ls /content/dog -l | awk -F ' ' '/dog*/ {count++}END{print count}'\n",
        "! ls /content/cat -l | awk -F ' ' '/cat*/ {count++}END{print count}'"
      ],
      "metadata": {
        "colab": {
          "base_uri": "https://localhost:8080/"
        },
        "id": "nCzmI6l_Rr2V",
        "outputId": "de541210-f8f7-433b-efd7-a254ab40d786"
      },
      "execution_count": 41,
      "outputs": [
        {
          "output_type": "stream",
          "name": "stdout",
          "text": [
            "12500\n",
            "12500\n"
          ]
        }
      ]
    },
    {
      "cell_type": "markdown",
      "source": [
        "# Data Preprocessing"
      ],
      "metadata": {
        "id": "LlXfK-gMSXtx"
      }
    },
    {
      "cell_type": "code",
      "source": [
        "CLASS_DIR = ['/content/cat/','/content/dog/']\n",
        "XSize = 255\n",
        "YSize = 255"
      ],
      "metadata": {
        "id": "oREFmLMnSWGh"
      },
      "execution_count": 42,
      "outputs": []
    },
    {
      "cell_type": "code",
      "source": [
        "dog = []\n",
        "cat = []\n",
        "for cls in CLASS_DIR:\n",
        "  if(cls == '/content/cat/' ):\n",
        "    for itr in range(12500):\n",
        "        image = PIL.Image.open(cls + f\"cat.{itr}.jpg\")\n",
        "        image_array = np.array(image)\n",
        "        dog.append(image_array)\n",
        "  if(cls == '/content/dog/' ):\n",
        "    for itr in range(12500):\n",
        "        image = PIL.Image.open(cls + f\"dog.{itr}.jpg\")\n",
        "        image_array = np.array(image)\n",
        "        cat.append(image_array)\n",
        "data = {\"Dog\" : dog,\"Cat\": cat}\n",
        "train_data = pd.DataFrame(data=data)"
      ],
      "metadata": {
        "id": "rYC_KJ7HUIMj"
      },
      "execution_count": 44,
      "outputs": []
    },
    {
      "cell_type": "code",
      "source": [
        "%cd /content/drive/MyDrive\n",
        "train_data.to_csv(\"train_cat&dog.csv\")"
      ],
      "metadata": {
        "colab": {
          "base_uri": "https://localhost:8080/"
        },
        "id": "JELYOoN1XleA",
        "outputId": "d1930336-9084-4098-9533-58d726f8455e"
      },
      "execution_count": 45,
      "outputs": [
        {
          "output_type": "stream",
          "name": "stdout",
          "text": [
            "/content/drive/MyDrive\n"
          ]
        }
      ]
    }
  ]
}